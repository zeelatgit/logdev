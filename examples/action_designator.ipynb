{
 "cells": [
  {
   "cell_type": "markdown",
   "id": "536150a3",
   "metadata": {},
   "source": [
    "# Action Designator\n",
    "This example will show the different kinds of Action Designator that are available. We will see how to create Action Designators and what they do.\n",
    "\n",
    "\n",
    "Action Designator are high-level descriptions of actions which the robot should execute. \n",
    "\n",
    "Action Deisgnators are created from a Action Designator Descritpion, which describes the type of action as well as the parameter for this action. Parameter are given as a list of possible parameters.\n",
    "For example, if you want to describe the robot moving to a table you would need a ```NavigateAction``` and a list of poses that are near the table. The Action Designator Description will then pick one of the poses and return a performable Action Designator which contains the picked pose. \n",
    "\n"
   ]
  },
  {
   "cell_type": "markdown",
   "id": "4767750f",
   "metadata": {},
   "source": [
    "## Navigate Action\n",
    "We will start with a simple example of the ```NavigateAction```. \n",
    "\n",
    "First, we need a BulletWorld with a robot."
   ]
  },
  {
   "cell_type": "code",
   "execution_count": 1,
   "id": "55d76329",
   "metadata": {
    "ExecuteTime": {
     "end_time": "2024-03-28T13:49:11.319649619Z",
     "start_time": "2024-03-28T13:49:06.342343388Z"
    }
   },
   "outputs": [
    {
     "name": "stderr",
     "output_type": "stream",
     "text": [
      "pybullet build time: May 20 2022 19:44:17\n",
      "Unknown attribute \"type\" in /robot[@name='pr2']/link[@name='base_laser_link']\n",
      "Unknown attribute \"type\" in /robot[@name='pr2']/link[@name='wide_stereo_optical_frame']\n",
      "Unknown attribute \"type\" in /robot[@name='pr2']/link[@name='narrow_stereo_optical_frame']\n",
      "Unknown attribute \"type\" in /robot[@name='pr2']/link[@name='laser_tilt_link']\n"
     ]
    },
    {
     "name": "stdout",
     "output_type": "stream",
     "text": [
      "JSON Info: {'code': {'function': 'no_operation', 'kwargs': {}}, 'status': 'RUNNING', 'start_time': '2024-03-28T14:49:07.304064', 'end_time': None, 'id': 139759496649120, 'parent_id': None, 'reason_of_failure': None}\n",
      "JSON Info: {'code': {'function': 'no_operation', 'kwargs': {}}, 'status': 'RUNNING', 'start_time': '2024-03-28T14:49:07.304064', 'end_time': None, 'id': 139759496649120, 'parent_id': None, 'reason_of_failure': None}\n",
      "JSON Info: {'code': {'function': 'no_operation', 'kwargs': {}}, 'status': 'RUNNING', 'start_time': '2024-03-28T14:49:07.304064', 'end_time': None, 'id': 139759496649120, 'parent_id': None, 'reason_of_failure': None}\n",
      "JSON Info: {'code': {'function': 'no_operation', 'kwargs': {}}, 'status': 'RUNNING', 'start_time': '2024-03-28T14:49:07.304064', 'end_time': None, 'id': 139759496649120, 'parent_id': None, 'reason_of_failure': None}\n",
      "JSON Info: {'code': {'function': 'no_operation', 'kwargs': {}}, 'status': 'RUNNING', 'start_time': '2024-03-28T14:49:07.304064', 'end_time': None, 'id': 139759496649120, 'parent_id': None, 'reason_of_failure': None}\n",
      "JSON Info: {'code': {'function': 'no_operation', 'kwargs': {}}, 'status': 'RUNNING', 'start_time': '2024-03-28T14:49:07.304064', 'end_time': None, 'id': 139759496649120, 'parent_id': None, 'reason_of_failure': None}\n",
      "JSON Info: {'code': {'function': 'no_operation', 'kwargs': {}}, 'status': 'RUNNING', 'start_time': '2024-03-28T14:49:07.304064', 'end_time': None, 'id': 139759496649120, 'parent_id': None, 'reason_of_failure': None}\n",
      "JSON Info: {'code': {'function': 'no_operation', 'kwargs': {}}, 'status': 'RUNNING', 'start_time': '2024-03-28T14:49:07.304064', 'end_time': None, 'id': 139759496649120, 'parent_id': None, 'reason_of_failure': None}\n",
      "JSON Info: {'code': {'function': 'no_operation', 'kwargs': {}}, 'status': 'RUNNING', 'start_time': '2024-03-28T14:49:07.304064', 'end_time': None, 'id': 139759496649120, 'parent_id': None, 'reason_of_failure': None}\n",
      "JSON Info: {'code': {'function': 'no_operation', 'kwargs': {}}, 'status': 'RUNNING', 'start_time': '2024-03-28T14:49:07.304064', 'end_time': None, 'id': 139759496649120, 'parent_id': None, 'reason_of_failure': None}\n",
      "JSON Info: {'code': {'function': 'no_operation', 'kwargs': {}}, 'status': 'RUNNING', 'start_time': '2024-03-28T14:49:07.304064', 'end_time': None, 'id': 139759496649120, 'parent_id': None, 'reason_of_failure': None}\n"
     ]
    },
    {
     "name": "stderr",
     "output_type": "stream",
     "text": [
      "[WARN] [1711633747.308612]: Could not import RoboKudo messages, RoboKudo interface could not be initialized\n",
      "[WARN] [1711633747.317000]: Failed to import Giskard messages\n",
      "Unknown tag \"material\" in /robot[@name='plane']/link[@name='planeLink']/collision[1]\n",
      "Unknown tag \"contact\" in /robot[@name='plane']/link[@name='planeLink']\n",
      "Unknown tag \"material\" in /robot[@name='plane']/link[@name='planeLink']/collision[1]\n",
      "Unknown tag \"contact\" in /robot[@name='plane']/link[@name='planeLink']\n",
      "Unknown attribute \"type\" in /robot[@name='pr2']/link[@name='base_laser_link']\n",
      "Unknown attribute \"type\" in /robot[@name='pr2']/link[@name='wide_stereo_optical_frame']\n",
      "Unknown attribute \"type\" in /robot[@name='pr2']/link[@name='narrow_stereo_optical_frame']\n",
      "Unknown attribute \"type\" in /robot[@name='pr2']/link[@name='laser_tilt_link']\n",
      "Unknown attribute \"type\" in /robot[@name='pr2']/link[@name='base_laser_link']\n",
      "Unknown attribute \"type\" in /robot[@name='pr2']/link[@name='wide_stereo_optical_frame']\n",
      "Unknown attribute \"type\" in /robot[@name='pr2']/link[@name='narrow_stereo_optical_frame']\n",
      "Unknown attribute \"type\" in /robot[@name='pr2']/link[@name='laser_tilt_link']\n"
     ]
    }
   ],
   "source": [
    "from pycram.bullet_world import BulletWorld, Object\n",
    "from pycram.pose import Pose\n",
    "from pycram.enums import ObjectType\n",
    "\n",
    "world = BulletWorld()\n",
    "pr2 = Object(\"pr2\", ObjectType.ROBOT, \"pr2.urdf\")"
   ]
  },
  {
   "cell_type": "code",
   "execution_count": 26,
   "id": "418343b7",
   "metadata": {
    "ExecuteTime": {
     "end_time": "2024-03-28T13:45:59.341349847Z",
     "start_time": "2024-03-28T13:45:59.024707950Z"
    }
   },
   "outputs": [
    {
     "name": "stdout",
     "output_type": "stream",
     "text": [
      "startThreads creating 1 threads.\n",
      "starting thread 0\n",
      "started thread 0 \n",
      "argc=2\n",
      "argv[0] = --unused\n",
      "argv[1] = --start_demo_name=Physics Server\n",
      "ExampleBrowserThreadFunc started\n",
      "X11 functions dynamically loaded using dlopen/dlsym OK!\n",
      "X11 functions dynamically loaded using dlopen/dlsym OK!\n",
      "Creating context\n",
      "Created GL 3.3 context\n",
      "Direct GLX rendering context obtained\n",
      "Making context current\n",
      "GL_VENDOR=Intel Open Source Technology Center\n",
      "GL_RENDERER=Mesa DRI Intel(R) HD Graphics 4600 (HSW GT2)\n",
      "GL_VERSION=4.5 (Core Profile) Mesa 21.2.6\n",
      "GL_SHADING_LANGUAGE_VERSION=4.50\n",
      "pthread_getconcurrency()=0\n",
      "Version = 4.5 (Core Profile) Mesa 21.2.6\n",
      "Vendor = Intel Open Source Technology Center\n",
      "Renderer = Mesa DRI Intel(R) HD Graphics 4600 (HSW GT2)\n",
      "b3Printf: Selected demo: Physics Server\n",
      "startThreads creating 1 threads.\n",
      "starting thread 0\n",
      "started thread 0 \n",
      "MotionThreadFunc thread started\n",
      "ven = Intel Open Source Technology Center\n",
      "Workaround for some crash in the Intel OpenGL driver on Linux/Ubuntu\n",
      "ven = Intel Open Source Technology Center\n",
      "Workaround for some crash in the Intel OpenGL driver on Linux/Ubuntu\n",
      "numActiveThreads = 0\n",
      "stopping threads\n",
      "Thread with taskId 0 exiting\n",
      "Thread TERMINATED\n",
      "destroy semaphore\n",
      "semaphore destroyed\n",
      "destroy main semaphore\n",
      "main semaphore destroyed\n",
      "finished\n",
      "numActiveThreads = 0\n",
      "btShutDownExampleBrowser stopping threads\n",
      "Thread with taskId 0 exiting\n",
      "Thread TERMINATED\n",
      "destroy semaphore\n",
      "semaphore destroyed\n",
      "destroy main semaphore\n",
      "main semaphore destroyed\n",
      "startThreads creating 1 threads.\n",
      "starting thread 0\n",
      "started thread 0 \n",
      "argc=2\n",
      "argv[0] = --unused\n",
      "argv[1] = --start_demo_name=Physics Server\n",
      "ExampleBrowserThreadFunc started\n",
      "X11 functions dynamically loaded using dlopen/dlsym OK!\n",
      "X11 functions dynamically loaded using dlopen/dlsym OK!\n",
      "Creating context\n",
      "Created GL 3.3 context\n",
      "Direct GLX rendering context obtained\n",
      "Making context current\n",
      "GL_VENDOR=Intel Open Source Technology Center\n",
      "GL_RENDERER=Mesa DRI Intel(R) HD Graphics 4600 (HSW GT2)\n",
      "GL_VERSION=4.5 (Core Profile) Mesa 21.2.6\n",
      "GL_SHADING_LANGUAGE_VERSION=4.50\n",
      "pthread_getconcurrency()=0\n",
      "Version = 4.5 (Core Profile) Mesa 21.2.6\n",
      "Vendor = Intel Open Source Technology Center\n",
      "Renderer = Mesa DRI Intel(R) HD Graphics 4600 (HSW GT2)\n",
      "b3Printf: Selected demo: Physics Server\n",
      "startThreads creating 1 threads.\n",
      "starting thread 0\n",
      "started thread 0 \n",
      "MotionThreadFunc thread started\n",
      "ven = Intel Open Source Technology Center\n",
      "Workaround for some crash in the Intel OpenGL driver on Linux/Ubuntu\n",
      "ven = Intel Open Source Technology Center\n",
      "Workaround for some crash in the Intel OpenGL driver on Linux/Ubuntu\n",
      "numActiveThreads = 0\n",
      "stopping threads\n",
      "Thread with taskId 0 exiting\n",
      "Thread TERMINATED\n",
      "destroy semaphore\n",
      "semaphore destroyed\n",
      "destroy main semaphore\n",
      "main semaphore destroyed\n",
      "finished\n",
      "numActiveThreads = 0\n",
      "btShutDownExampleBrowser stopping threads\n",
      "Thread with taskId 0 exiting\n",
      "Thread TERMINATED\n",
      "destroy semaphore\n",
      "semaphore destroyed\n",
      "destroy main semaphore\n",
      "main semaphore destroyed\n",
      "startThreads creating 1 threads.\n",
      "starting thread 0\n",
      "started thread 0 \n",
      "argc=2\n",
      "argv[0] = --unused\n",
      "argv[1] = --start_demo_name=Physics Server\n",
      "ExampleBrowserThreadFunc started\n",
      "X11 functions dynamically loaded using dlopen/dlsym OK!\n",
      "X11 functions dynamically loaded using dlopen/dlsym OK!\n",
      "Creating context\n",
      "Created GL 3.3 context\n",
      "Direct GLX rendering context obtained\n",
      "Making context current\n",
      "GL_VENDOR=Intel Open Source Technology Center\n",
      "GL_RENDERER=Mesa DRI Intel(R) HD Graphics 4600 (HSW GT2)\n",
      "GL_VERSION=4.5 (Core Profile) Mesa 21.2.6\n",
      "GL_SHADING_LANGUAGE_VERSION=4.50\n",
      "pthread_getconcurrency()=0\n",
      "Version = 4.5 (Core Profile) Mesa 21.2.6\n",
      "Vendor = Intel Open Source Technology Center\n",
      "Renderer = Mesa DRI Intel(R) HD Graphics 4600 (HSW GT2)\n",
      "b3Printf: Selected demo: Physics Server\n",
      "startThreads creating 1 threads.\n",
      "starting thread 0\n",
      "started thread 0 \n",
      "MotionThreadFunc thread started\n",
      "ven = Intel Open Source Technology Center\n",
      "Workaround for some crash in the Intel OpenGL driver on Linux/Ubuntu\n",
      "ven = Intel Open Source Technology Center\n",
      "Workaround for some crash in the Intel OpenGL driver on Linux/Ubuntu\n",
      "numActiveThreads = 0\n",
      "stopping threads\n",
      "Thread with taskId 0 exi"
     ]
    }
   ],
   "source": [
    "world.exit()"
   ]
  },
  {
   "cell_type": "markdown",
   "id": "ed57b47d",
   "metadata": {},
   "source": [
    "To move the robot we need to create a description and resolve it to an actual Designator. The description of navigation only needs a list of possible poses."
   ]
  },
  {
   "cell_type": "code",
   "execution_count": 2,
   "id": "d5960cc9",
   "metadata": {
    "ExecuteTime": {
     "end_time": "2024-03-28T13:50:02.028354074Z",
     "start_time": "2024-03-28T13:50:01.006560273Z"
    }
   },
   "outputs": [
    {
     "name": "stdout",
     "output_type": "stream",
     "text": [
      "JSON Info: {'code': {'function': 'no_operation', 'kwargs': {}}, 'status': 'RUNNING', 'start_time': '2024-03-28T14:49:07.304064', 'end_time': None, 'id': 139759496649120, 'parent_id': None, 'reason_of_failure': None}\n",
      "JSON Info: {'code': {'function': 'no_operation', 'kwargs': {}}, 'status': 'RUNNING', 'start_time': '2024-03-28T14:49:07.304064', 'end_time': None, 'id': 139759496649120, 'parent_id': None, 'reason_of_failure': None}\n",
      "JSON Info: {'code': {'function': 'no_operation', 'kwargs': {}}, 'status': 'RUNNING', 'start_time': '2024-03-28T14:49:07.304064', 'end_time': None, 'id': 139759496649120, 'parent_id': None, 'reason_of_failure': None}\n",
      "JSON Info: {'code': {'function': 'no_operation', 'kwargs': {}}, 'status': 'RUNNING', 'start_time': '2024-03-28T14:49:07.304064', 'end_time': None, 'id': 139759496649120, 'parent_id': None, 'reason_of_failure': None}\n",
      "JSON Info: {'code': {'function': 'no_operation', 'kwargs': {}}, 'status': 'RUNNING', 'start_time': '2024-03-28T14:49:07.304064', 'end_time': None, 'id': 139759496649120, 'parent_id': None, 'reason_of_failure': None}\n",
      "JSON Info: {'code': {'function': 'no_operation', 'kwargs': {}}, 'status': 'RUNNING', 'start_time': '2024-03-28T14:49:07.304064', 'end_time': None, 'id': 139759496649120, 'parent_id': None, 'reason_of_failure': None}\n",
      "JSON Info: {'code': {'function': 'no_operation', 'kwargs': {}}, 'status': 'RUNNING', 'start_time': '2024-03-28T14:49:07.304064', 'end_time': None, 'id': 139759496649120, 'parent_id': None, 'reason_of_failure': None}\n",
      "JSON Info: {'code': {'function': 'no_operation', 'kwargs': {}}, 'status': 'RUNNING', 'start_time': '2024-03-28T14:49:07.304064', 'end_time': None, 'id': 139759496649120, 'parent_id': None, 'reason_of_failure': None}\n",
      "JSON Info: {'code': {'function': 'no_operation', 'kwargs': {}}, 'status': 'RUNNING', 'start_time': '2024-03-28T14:49:07.304064', 'end_time': None, 'id': 139759496649120, 'parent_id': None, 'reason_of_failure': None}\n",
      "JSON Info: {'code': {'function': 'no_operation', 'kwargs': {}}, 'status': 'RUNNING', 'start_time': '2024-03-28T14:49:07.304064', 'end_time': None, 'id': 139759496649120, 'parent_id': None, 'reason_of_failure': None}\n",
      "JSON Info: {'code': {'function': 'no_operation', 'kwargs': {}}, 'status': 'RUNNING', 'start_time': '2024-03-28T14:49:07.304064', 'end_time': None, 'id': 139759496649120, 'parent_id': None, 'reason_of_failure': None}\n",
      "JSON Info: {'code': {'function': 'no_operation', 'kwargs': {}}, 'status': 'RUNNING', 'start_time': '2024-03-28T14:49:07.304064', 'end_time': None, 'id': 139759496649120, 'parent_id': None, 'reason_of_failure': None}\n",
      "JSON Info: {'code': {'function': 'no_operation', 'kwargs': {}}, 'status': 'RUNNING', 'start_time': '2024-03-28T14:49:07.304064', 'end_time': None, 'id': 139759496649120, 'parent_id': None, 'reason_of_failure': None}\n"
     ]
    }
   ],
   "source": [
    "from pycram.designators.action_designator import NavigateAction\n",
    "from pycram.pose import Pose\n",
    "\n",
    "pose = Pose([1, 0, 0], [0, 0, 0, 1])\n",
    "\n",
    "# This is the Designator Description\n",
    "navigate_description = NavigateAction(target_locations=[pose])\n",
    "\n",
    "# This is the performable Designator\n",
    "navigate_designator = navigate_description.resolve()"
   ]
  },
  {
   "cell_type": "markdown",
   "id": "30bd6765",
   "metadata": {},
   "source": [
    "What we now did was create the pose were we want to move the robot, create a description describing a navigation with a list of possible poses (in this case the list contains only one pose) and create an action designator from the description. The action designator contains the pose picked from the list of possible poses and can be performed."
   ]
  },
  {
   "cell_type": "code",
   "execution_count": 4,
   "id": "4a51088f",
   "metadata": {
    "ExecuteTime": {
     "end_time": "2024-03-28T13:56:19.809138570Z",
     "start_time": "2024-03-28T13:56:19.120617803Z"
    }
   },
   "outputs": [
    {
     "name": "stdout",
     "output_type": "stream",
     "text": [
      "JSON Info: {'code': {'function': 'perform', 'kwargs': {'self': {'action_type': 'NavigateAction', 'target_location': {'position': [1, 0, 0], 'orientation': [0.0, 0.0, 0.0, 1.0], 'frame': 'map'}}}}, 'status': 'CREATED', 'start_time': None, 'end_time': None, 'id': 139760185895184, 'parent_id': 139759496649120, 'reason_of_failure': None}\n",
      "JSON Info: {'code': {'function': 'perform', 'kwargs': {'self': {'motion_type': 'MoveMotion', 'target': {'position': [1, 0, 0], 'orientation': [0.0, 0.0, 0.0, 1.0], 'frame': 'map'}}}}, 'status': 'CREATED', 'start_time': None, 'end_time': None, 'id': 139757621405680, 'parent_id': 139760185895184, 'reason_of_failure': None}\n",
      "JSON Info: {'code': {'function': 'perform', 'kwargs': {'self': {'motion_type': 'MoveMotion', 'target': {'position': [1, 0, 0], 'orientation': [0.0, 0.0, 0.0, 1.0], 'frame': 'map'}}}}, 'status': 'SUCCEEDED', 'start_time': '2024-03-28T14:56:19.121538', 'end_time': None, 'id': 139757621405680, 'parent_id': 139760185895184, 'reason_of_failure': None}\n",
      "JSON Info: {'code': {'function': 'perform', 'kwargs': {'self': {'action_type': 'NavigateAction', 'target_location': {'position': [1, 0, 0], 'orientation': [0.0, 0.0, 0.0, 1.0], 'frame': 'map'}}}}, 'status': 'SUCCEEDED', 'start_time': '2024-03-28T14:56:19.121449', 'end_time': None, 'id': 139760185895184, 'parent_id': 139759496649120, 'reason_of_failure': None}\n"
     ]
    }
   ],
   "source": [
    "from pycram.process_module import simulated_robot\n",
    "\n",
    "with simulated_robot:\n",
    "    navigate_designator.perform()"
   ]
  },
  {
   "cell_type": "markdown",
   "id": "7d4e02c0",
   "metadata": {},
   "source": [
    "Every designator that is performed needs to be in an environment that specifies where to perform the designator either on the real robot or the simulated one. This environment is called ```simulated_robot``` similar there is also a ```real_robot``` environment. \n",
    "\n",
    "There are also decorators which do the same thing but for whole methods, they are called ```with_real_robot``` and ```with_simulated_robor```"
   ]
  },
  {
   "cell_type": "markdown",
   "id": "a1d1fd15",
   "metadata": {},
   "source": [
    "## Move Torso\n",
    "This action designator moves the torso up or down, specifically it sets the torso joint to a given value.\n",
    "\n",
    "We start again by creating a description and resolving it to a designator. Afterwards, the designator is perfomed in a ```simulated_robot``` environment. "
   ]
  },
  {
   "cell_type": "code",
   "execution_count": 18,
   "id": "b3bb514b",
   "metadata": {
    "ExecuteTime": {
     "end_time": "2024-03-28T13:04:02.433854013Z",
     "start_time": "2024-03-28T13:04:01.910187687Z"
    }
   },
   "outputs": [
    {
     "name": "stdout",
     "output_type": "stream",
     "text": [
      "JSON Info: {'code': {'function': 'perform', 'kwargs': {'self': {'action_type': 'MoveTorsoAction', 'position': 0.2}}}, 'status': 'CREATED', 'start_time': None, 'end_time': None, 'id': 140425066126592, 'parent_id': 140427727196320}\n"
     ]
    }
   ],
   "source": [
    "from pycram.designators.action_designator import MoveTorsoAction\n",
    "from pycram.process_module import simulated_robot\n",
    "\n",
    "torso_pose = 0.2\n",
    "\n",
    "torso_desig = MoveTorsoAction([torso_pose]).resolve()\n",
    "with simulated_robot:\n",
    "    torso_desig.perform()"
   ]
  },
  {
   "cell_type": "markdown",
   "id": "aa20c0b0",
   "metadata": {},
   "source": [
    "## Set Gripper\n",
    "As the name implies, this action designator is used to open or close the gripper. \n",
    "\n",
    "The procedure is similar to the last time, but this time we will shorten it a bit."
   ]
  },
  {
   "cell_type": "code",
   "execution_count": 19,
   "id": "3927240c",
   "metadata": {
    "ExecuteTime": {
     "end_time": "2024-03-28T13:04:12.699518968Z",
     "start_time": "2024-03-28T13:04:12.172001654Z"
    }
   },
   "outputs": [
    {
     "name": "stdout",
     "output_type": "stream",
     "text": [
      "JSON Info: {'code': {'function': 'perform', 'kwargs': {'self': {'action_type': 'SetGripperAction', 'gripper': 'right', 'motion': 'open'}}}, 'status': 'CREATED', 'start_time': None, 'end_time': None, 'id': 140427168819088, 'parent_id': 140427727196320}\n",
      "JSON Info: {'code': {'function': 'perform', 'kwargs': {'self': {'motion_type': 'MoveGripperMotion', 'motion': 'open', 'gripper': 'right', 'allow_gripper_collision': None}}}, 'status': 'CREATED', 'start_time': None, 'end_time': None, 'id': 140427168819856, 'parent_id': 140427168819088}\n"
     ]
    }
   ],
   "source": [
    "from pycram.designators.action_designator import SetGripperAction\n",
    "from pycram.process_module import simulated_robot\n",
    "\n",
    "gripper = \"right\"\n",
    "motion = \"open\"\n",
    "\n",
    "with simulated_robot:\n",
    "    SetGripperAction(grippers=[gripper], motions=[motion]).resolve().perform()"
   ]
  },
  {
   "cell_type": "markdown",
   "id": "1b0e1cfe",
   "metadata": {},
   "source": [
    "## Park Arms\n",
    "Park arms is used to move one or both arms into the default parking position."
   ]
  },
  {
   "cell_type": "code",
   "execution_count": 10,
   "id": "4d11f9db",
   "metadata": {
    "ExecuteTime": {
     "end_time": "2024-03-13T14:34:54.696553155Z",
     "start_time": "2024-03-13T14:34:54.084603615Z"
    }
   },
   "outputs": [
    {
     "name": "stdout",
     "output_type": "stream",
     "text": [
      "JSON Info: {'code': {'function': 'perform', 'kwargs': {'self': {'action_type': 'ParkArmsAction', 'arm': 'BOTH'}}}, 'status': 'CREATED', 'start_time': None, 'end_time': None, 'id': 139746563766448, 'parent_id': 139748124422256}\n"
     ]
    }
   ],
   "source": [
    "from pycram.designators.action_designator import ParkArmsAction\n",
    "from pycram.process_module import simulated_robot\n",
    "from pycram.enums import Arms\n",
    "\n",
    "with simulated_robot:\n",
    "    ParkArmsAction([Arms.BOTH]).resolve().perform()"
   ]
  },
  {
   "cell_type": "markdown",
   "id": "2ea31ae9",
   "metadata": {},
   "source": [
    "## Pick Up and Place\n",
    "Since these are depending on each other, meaning you can only place something when you picked it up beforehand, they will be shown together. \n",
    "\n",
    "These action designators use object designators, which will not be further explained so please check the example on object designators for more details. \n",
    "\n",
    "To start we need an environment in which we can pick up and place things as well as an object to pick up."
   ]
  },
  {
   "cell_type": "code",
   "execution_count": 20,
   "id": "6e60ef22",
   "metadata": {
    "ExecuteTime": {
     "end_time": "2024-03-28T13:04:31.194174400Z",
     "start_time": "2024-03-28T13:04:28.018710762Z"
    }
   },
   "outputs": [
    {
     "name": "stderr",
     "output_type": "stream",
     "text": [
      "Scalar element defined multiple times: limit\n",
      "Scalar element defined multiple times: limit\n"
     ]
    }
   ],
   "source": [
    "kitchen = Object(\"kitchen\", ObjectType.ENVIRONMENT, \"kitchen.urdf\")\n",
    "milk = Object(\"milk\", ObjectType.MILK, \"milk.stl\", pose=Pose([1.3, 1, 0.9]))\n",
    "\n",
    "world.reset_bullet_world()"
   ]
  },
  {
   "cell_type": "code",
   "execution_count": 21,
   "id": "e30fee45",
   "metadata": {
    "ExecuteTime": {
     "end_time": "2024-03-28T13:04:41.027353818Z",
     "start_time": "2024-03-28T13:04:38.915893029Z"
    }
   },
   "outputs": [
    {
     "name": "stdout",
     "output_type": "stream",
     "text": [
      "JSON Info: {'code': {'function': 'perform', 'kwargs': {'self': {'action_type': 'ParkArmsAction', 'arm': 'BOTH'}}}, 'status': 'CREATED', 'start_time': None, 'end_time': None, 'id': 140425876069776, 'parent_id': 140427727196320}\n",
      "JSON Info: {'code': {'function': 'perform', 'kwargs': {'self': {'action_type': 'MoveTorsoAction', 'position': 0.3}}}, 'status': 'CREATED', 'start_time': None, 'end_time': None, 'id': 140425876062752, 'parent_id': 140427727196320}\n",
      "JSON Info: {'code': {'function': 'perform', 'kwargs': {'self': {'action_type': 'NavigateAction', 'target_location': {'position': [0.72, 0.98, 0.0], 'orientation': [0.0, 0.0, 0.014701099828940344, 0.9998919329926708], 'frame': 'map'}}}}, 'status': 'CREATED', 'start_time': None, 'end_time': None, 'id': 140425876063328, 'parent_id': 140427727196320}\n",
      "JSON Info: {'code': {'function': 'perform', 'kwargs': {'self': {'motion_type': 'MoveMotion', 'target': {'position': [0.72, 0.98, 0.0], 'orientation': [0.0, 0.0, 0.014701099828940344, 0.9998919329926708], 'frame': 'map'}}}}, 'status': 'CREATED', 'start_time': None, 'end_time': None, 'id': 140425876063760, 'parent_id': 140425876063328}\n",
      "JSON Info: {'code': {'function': 'perform', 'kwargs': {'self': {'action_type': 'PickUpAction', 'arms': 'right', 'grasps': 'right', 'object_designator_description': {'type': <ObjectType.MILK: 1>, 'name': 'milk'}}}}, 'status': 'CREATED', 'start_time': None, 'end_time': None, 'id': 140425876064288, 'parent_id': 140427727196320}\n",
      "JSON Info: {'code': {'function': 'perform', 'kwargs': {'self': {'motion_type': 'MoveTCPMotion', 'target': {'position': [1.2100218366926143, 0.9564456631739674, 0.8973637391111801], 'orientation': [7.355653199574857e-18, 1.084284334194452e-17, 0.7071067811865477, 0.7071067811865474], 'frame': 'map'}, 'arm': 'right', 'allow_gripper_collision': None}}}, 'status': 'CREATED', 'start_time': None, 'end_time': None, 'id': 140425876065104, 'parent_id': 140425876064288}\n"
     ]
    },
    {
     "ename": "ROSInterruptException",
     "evalue": "rospy shutdown",
     "output_type": "error",
     "traceback": [
      "\u001B[0;31m---------------------------------------------------------------------------\u001B[0m",
      "\u001B[0;31mROSInterruptException\u001B[0m                     Traceback (most recent call last)",
      "Cell \u001B[0;32mIn[21], line 18\u001B[0m\n\u001B[1;32m     13\u001B[0m MoveTorsoAction([\u001B[38;5;241m0.3\u001B[39m])\u001B[38;5;241m.\u001B[39mresolve()\u001B[38;5;241m.\u001B[39mperform()\n\u001B[1;32m     15\u001B[0m NavigateAction([Pose([\u001B[38;5;241m0.72\u001B[39m, \u001B[38;5;241m0.98\u001B[39m, \u001B[38;5;241m0.0\u001B[39m], \n\u001B[1;32m     16\u001B[0m                  [\u001B[38;5;241m0.0\u001B[39m, \u001B[38;5;241m0.0\u001B[39m, \u001B[38;5;241m0.014701099828940344\u001B[39m, \u001B[38;5;241m0.9998919329926708\u001B[39m])])\u001B[38;5;241m.\u001B[39mresolve()\u001B[38;5;241m.\u001B[39mperform()\n\u001B[0;32m---> 18\u001B[0m \u001B[43mPickUpAction\u001B[49m\u001B[43m(\u001B[49m\u001B[43mobject_designator_description\u001B[49m\u001B[38;5;241;43m=\u001B[39;49m\u001B[43mmilk_desig\u001B[49m\u001B[43m,\u001B[49m\u001B[43m \u001B[49m\n\u001B[1;32m     19\u001B[0m \u001B[43m                 \u001B[49m\u001B[43marms\u001B[49m\u001B[38;5;241;43m=\u001B[39;49m\u001B[43m[\u001B[49m\u001B[43marm\u001B[49m\u001B[43m]\u001B[49m\u001B[43m,\u001B[49m\u001B[43m \u001B[49m\n\u001B[1;32m     20\u001B[0m \u001B[43m                 \u001B[49m\u001B[43mgrasps\u001B[49m\u001B[38;5;241;43m=\u001B[39;49m\u001B[43m[\u001B[49m\u001B[38;5;124;43m\"\u001B[39;49m\u001B[38;5;124;43mright\u001B[39;49m\u001B[38;5;124;43m\"\u001B[39;49m\u001B[43m]\u001B[49m\u001B[43m)\u001B[49m\u001B[38;5;241;43m.\u001B[39;49m\u001B[43mresolve\u001B[49m\u001B[43m(\u001B[49m\u001B[43m)\u001B[49m\u001B[38;5;241;43m.\u001B[39;49m\u001B[43mperform\u001B[49m\u001B[43m(\u001B[49m\u001B[43m)\u001B[49m\n\u001B[1;32m     22\u001B[0m NavigateAction([Pose([\u001B[38;5;241m-\u001B[39m\u001B[38;5;241m1.90\u001B[39m, \u001B[38;5;241m0.78\u001B[39m, \u001B[38;5;241m0.0\u001B[39m], \n\u001B[1;32m     23\u001B[0m                  [\u001B[38;5;241m0.0\u001B[39m, \u001B[38;5;241m0.0\u001B[39m, \u001B[38;5;241m0.16439898301071468\u001B[39m, \u001B[38;5;241m0.9863939245479175\u001B[39m])])\u001B[38;5;241m.\u001B[39mresolve()\u001B[38;5;241m.\u001B[39mperform()\n\u001B[1;32m     25\u001B[0m PlaceAction(object_designator_description\u001B[38;5;241m=\u001B[39mmilk_desig, \n\u001B[1;32m     26\u001B[0m             target_locations\u001B[38;5;241m=\u001B[39m[Pose([\u001B[38;5;241m-\u001B[39m\u001B[38;5;241m1.20\u001B[39m, \u001B[38;5;241m1.0192\u001B[39m, \u001B[38;5;241m0.9624\u001B[39m], \n\u001B[1;32m     27\u001B[0m                                [\u001B[38;5;241m0.0\u001B[39m, \u001B[38;5;241m0.0\u001B[39m, \u001B[38;5;241m0.6339889056055381\u001B[39m, \u001B[38;5;241m0.7733421413379024\u001B[39m])], \n\u001B[1;32m     28\u001B[0m             arms\u001B[38;5;241m=\u001B[39m[arm])\u001B[38;5;241m.\u001B[39mresolve()\u001B[38;5;241m.\u001B[39mperform()\n",
      "File \u001B[0;32m~/workspace/ros/src/pycram/src/pycram/task.py:324\u001B[0m, in \u001B[0;36mwith_tree.<locals>.handle_tree\u001B[0;34m(*args, **kwargs)\u001B[0m\n\u001B[1;32m    322\u001B[0m task_tree\u001B[38;5;241m.\u001B[39mstatus \u001B[38;5;241m=\u001B[39m TaskStatus\u001B[38;5;241m.\u001B[39mCREATED\n\u001B[1;32m    323\u001B[0m task_tree\u001B[38;5;241m.\u001B[39mstart_time \u001B[38;5;241m=\u001B[39m datetime\u001B[38;5;241m.\u001B[39mdatetime\u001B[38;5;241m.\u001B[39mnow()\n\u001B[0;32m--> 324\u001B[0m result \u001B[38;5;241m=\u001B[39m \u001B[43mtask_tree\u001B[49m\u001B[38;5;241;43m.\u001B[39;49m\u001B[43mcode\u001B[49m\u001B[38;5;241;43m.\u001B[39;49m\u001B[43mexecute\u001B[49m\u001B[43m(\u001B[49m\u001B[43m)\u001B[49m\n\u001B[1;32m    326\u001B[0m \u001B[38;5;66;03m# if it succeeded set the flag\u001B[39;00m\n\u001B[1;32m    327\u001B[0m task_tree\u001B[38;5;241m.\u001B[39mstatus \u001B[38;5;241m=\u001B[39m TaskStatus\u001B[38;5;241m.\u001B[39mSUCCEEDED\n",
      "File \u001B[0;32m~/workspace/ros/src/pycram/src/pycram/task.py:52\u001B[0m, in \u001B[0;36mCode.execute\u001B[0;34m(self)\u001B[0m\n\u001B[1;32m     46\u001B[0m \u001B[38;5;28;01mdef\u001B[39;00m \u001B[38;5;21mexecute\u001B[39m(\u001B[38;5;28mself\u001B[39m) \u001B[38;5;241m-\u001B[39m\u001B[38;5;241m>\u001B[39m Any:\n\u001B[1;32m     47\u001B[0m \u001B[38;5;250m    \u001B[39m\u001B[38;5;124;03m\"\"\"\u001B[39;00m\n\u001B[1;32m     48\u001B[0m \u001B[38;5;124;03m    Execute the code with its arguments\u001B[39;00m\n\u001B[1;32m     49\u001B[0m \n\u001B[1;32m     50\u001B[0m \u001B[38;5;124;03m    :returns: Anything that the function associated with this object will return.\u001B[39;00m\n\u001B[1;32m     51\u001B[0m \u001B[38;5;124;03m    \"\"\"\u001B[39;00m\n\u001B[0;32m---> 52\u001B[0m     \u001B[38;5;28;01mreturn\u001B[39;00m \u001B[38;5;28;43mself\u001B[39;49m\u001B[38;5;241;43m.\u001B[39;49m\u001B[43mfunction\u001B[49m\u001B[43m(\u001B[49m\u001B[38;5;241;43m*\u001B[39;49m\u001B[38;5;241;43m*\u001B[39;49m\u001B[38;5;28;43mself\u001B[39;49m\u001B[38;5;241;43m.\u001B[39;49m\u001B[43mkwargs\u001B[49m\u001B[43m)\u001B[49m\n",
      "File \u001B[0;32m~/workspace/ros/src/pycram/src/pycram/designators/action_designator.py:408\u001B[0m, in \u001B[0;36mPickUpAction.Action.perform\u001B[0;34m(self)\u001B[0m\n\u001B[1;32m    406\u001B[0m \u001B[38;5;66;03m# Perform the motion with the prepose and open gripper\u001B[39;00m\n\u001B[1;32m    407\u001B[0m BulletWorld\u001B[38;5;241m.\u001B[39mcurrent_bullet_world\u001B[38;5;241m.\u001B[39madd_vis_axis(prepose)\n\u001B[0;32m--> 408\u001B[0m \u001B[43mMoveTCPMotion\u001B[49m\u001B[43m(\u001B[49m\u001B[43mprepose\u001B[49m\u001B[43m,\u001B[49m\u001B[43m \u001B[49m\u001B[38;5;28;43mself\u001B[39;49m\u001B[38;5;241;43m.\u001B[39;49m\u001B[43marm\u001B[49m\u001B[43m)\u001B[49m\u001B[38;5;241;43m.\u001B[39;49m\u001B[43mresolve\u001B[49m\u001B[43m(\u001B[49m\u001B[43m)\u001B[49m\u001B[38;5;241;43m.\u001B[39;49m\u001B[43mperform\u001B[49m\u001B[43m(\u001B[49m\u001B[43m)\u001B[49m\n\u001B[1;32m    409\u001B[0m MoveGripperMotion(motion\u001B[38;5;241m=\u001B[39m\u001B[38;5;124m\"\u001B[39m\u001B[38;5;124mopen\u001B[39m\u001B[38;5;124m\"\u001B[39m, gripper\u001B[38;5;241m=\u001B[39m\u001B[38;5;28mself\u001B[39m\u001B[38;5;241m.\u001B[39marm)\u001B[38;5;241m.\u001B[39mresolve()\u001B[38;5;241m.\u001B[39mperform()\n\u001B[1;32m    411\u001B[0m \u001B[38;5;66;03m# Perform the motion with the adjusted pose -> actual grasp and close gripper\u001B[39;00m\n",
      "File \u001B[0;32m~/workspace/ros/src/pycram/src/pycram/task.py:324\u001B[0m, in \u001B[0;36mwith_tree.<locals>.handle_tree\u001B[0;34m(*args, **kwargs)\u001B[0m\n\u001B[1;32m    322\u001B[0m task_tree\u001B[38;5;241m.\u001B[39mstatus \u001B[38;5;241m=\u001B[39m TaskStatus\u001B[38;5;241m.\u001B[39mCREATED\n\u001B[1;32m    323\u001B[0m task_tree\u001B[38;5;241m.\u001B[39mstart_time \u001B[38;5;241m=\u001B[39m datetime\u001B[38;5;241m.\u001B[39mdatetime\u001B[38;5;241m.\u001B[39mnow()\n\u001B[0;32m--> 324\u001B[0m result \u001B[38;5;241m=\u001B[39m \u001B[43mtask_tree\u001B[49m\u001B[38;5;241;43m.\u001B[39;49m\u001B[43mcode\u001B[49m\u001B[38;5;241;43m.\u001B[39;49m\u001B[43mexecute\u001B[49m\u001B[43m(\u001B[49m\u001B[43m)\u001B[49m\n\u001B[1;32m    326\u001B[0m \u001B[38;5;66;03m# if it succeeded set the flag\u001B[39;00m\n\u001B[1;32m    327\u001B[0m task_tree\u001B[38;5;241m.\u001B[39mstatus \u001B[38;5;241m=\u001B[39m TaskStatus\u001B[38;5;241m.\u001B[39mSUCCEEDED\n",
      "File \u001B[0;32m~/workspace/ros/src/pycram/src/pycram/task.py:52\u001B[0m, in \u001B[0;36mCode.execute\u001B[0;34m(self)\u001B[0m\n\u001B[1;32m     46\u001B[0m \u001B[38;5;28;01mdef\u001B[39;00m \u001B[38;5;21mexecute\u001B[39m(\u001B[38;5;28mself\u001B[39m) \u001B[38;5;241m-\u001B[39m\u001B[38;5;241m>\u001B[39m Any:\n\u001B[1;32m     47\u001B[0m \u001B[38;5;250m    \u001B[39m\u001B[38;5;124;03m\"\"\"\u001B[39;00m\n\u001B[1;32m     48\u001B[0m \u001B[38;5;124;03m    Execute the code with its arguments\u001B[39;00m\n\u001B[1;32m     49\u001B[0m \n\u001B[1;32m     50\u001B[0m \u001B[38;5;124;03m    :returns: Anything that the function associated with this object will return.\u001B[39;00m\n\u001B[1;32m     51\u001B[0m \u001B[38;5;124;03m    \"\"\"\u001B[39;00m\n\u001B[0;32m---> 52\u001B[0m     \u001B[38;5;28;01mreturn\u001B[39;00m \u001B[38;5;28;43mself\u001B[39;49m\u001B[38;5;241;43m.\u001B[39;49m\u001B[43mfunction\u001B[49m\u001B[43m(\u001B[49m\u001B[38;5;241;43m*\u001B[39;49m\u001B[38;5;241;43m*\u001B[39;49m\u001B[38;5;28;43mself\u001B[39;49m\u001B[38;5;241;43m.\u001B[39;49m\u001B[43mkwargs\u001B[49m\u001B[43m)\u001B[49m\n",
      "File \u001B[0;32m~/workspace/ros/src/pycram/src/pycram/designators/motion_designator.py:218\u001B[0m, in \u001B[0;36mMoveTCPMotion.Motion.perform\u001B[0;34m(self)\u001B[0m\n\u001B[1;32m    215\u001B[0m \u001B[38;5;129m@with_tree\u001B[39m\n\u001B[1;32m    216\u001B[0m \u001B[38;5;28;01mdef\u001B[39;00m \u001B[38;5;21mperform\u001B[39m(\u001B[38;5;28mself\u001B[39m):\n\u001B[1;32m    217\u001B[0m     pm_manager \u001B[38;5;241m=\u001B[39m ProcessModuleManager\u001B[38;5;241m.\u001B[39mget_manager()\n\u001B[0;32m--> 218\u001B[0m     \u001B[38;5;28;01mreturn\u001B[39;00m \u001B[43mpm_manager\u001B[49m\u001B[38;5;241;43m.\u001B[39;49m\u001B[43mmove_tcp\u001B[49m\u001B[43m(\u001B[49m\u001B[43m)\u001B[49m\u001B[38;5;241;43m.\u001B[39;49m\u001B[43mexecute\u001B[49m\u001B[43m(\u001B[49m\u001B[38;5;28;43mself\u001B[39;49m\u001B[43m)\u001B[49m\n",
      "File \u001B[0;32m~/workspace/ros/src/pycram/src/pycram/process_module.py:53\u001B[0m, in \u001B[0;36mProcessModule.execute\u001B[0;34m(self, designator)\u001B[0m\n\u001B[1;32m     44\u001B[0m \u001B[38;5;250m\u001B[39m\u001B[38;5;124;03m\"\"\"\u001B[39;00m\n\u001B[1;32m     45\u001B[0m \u001B[38;5;124;03mExecute the given designator. If there is already another process module of the same kind the `self._lock` will\u001B[39;00m\n\u001B[1;32m     46\u001B[0m \u001B[38;5;124;03mlock this thread until the execution of that process module is finished. This implicitly queues the execution of\u001B[39;00m\n\u001B[0;32m   (...)\u001B[0m\n\u001B[1;32m     50\u001B[0m \u001B[38;5;124;03m:return: Return of the Process Module if there is any\u001B[39;00m\n\u001B[1;32m     51\u001B[0m \u001B[38;5;124;03m\"\"\"\u001B[39;00m\n\u001B[1;32m     52\u001B[0m \u001B[38;5;28;01mwith\u001B[39;00m \u001B[38;5;28mself\u001B[39m\u001B[38;5;241m.\u001B[39m_lock:\n\u001B[0;32m---> 53\u001B[0m     ret \u001B[38;5;241m=\u001B[39m \u001B[38;5;28;43mself\u001B[39;49m\u001B[38;5;241;43m.\u001B[39;49m\u001B[43m_execute\u001B[49m\u001B[43m(\u001B[49m\u001B[43mdesignator\u001B[49m\u001B[43m)\u001B[49m\n\u001B[1;32m     54\u001B[0m     \u001B[38;5;28;01mif\u001B[39;00m ProcessModule\u001B[38;5;241m.\u001B[39mexecution_delay:\n\u001B[1;32m     55\u001B[0m         time\u001B[38;5;241m.\u001B[39msleep(\u001B[38;5;241m0.5\u001B[39m)\n",
      "File \u001B[0;32m~/workspace/ros/src/pycram/src/pycram/process_modules/pr2_process_modules.py:174\u001B[0m, in \u001B[0;36mPr2MoveTCP._execute\u001B[0;34m(self, desig)\u001B[0m\n\u001B[1;32m    171\u001B[0m target \u001B[38;5;241m=\u001B[39m desig\u001B[38;5;241m.\u001B[39mtarget\n\u001B[1;32m    172\u001B[0m robot \u001B[38;5;241m=\u001B[39m BulletWorld\u001B[38;5;241m.\u001B[39mrobot\n\u001B[0;32m--> 174\u001B[0m \u001B[43m_move_arm_tcp\u001B[49m\u001B[43m(\u001B[49m\u001B[43mtarget\u001B[49m\u001B[43m,\u001B[49m\u001B[43m \u001B[49m\u001B[43mrobot\u001B[49m\u001B[43m,\u001B[49m\u001B[43m \u001B[49m\u001B[43mdesig\u001B[49m\u001B[38;5;241;43m.\u001B[39;49m\u001B[43marm\u001B[49m\u001B[43m)\u001B[49m\n",
      "File \u001B[0;32m~/workspace/ros/src/pycram/src/pycram/process_modules/pr2_process_modules.py:256\u001B[0m, in \u001B[0;36m_move_arm_tcp\u001B[0;34m(target, robot, arm)\u001B[0m\n\u001B[1;32m    252\u001B[0m gripper \u001B[38;5;241m=\u001B[39m robot_description\u001B[38;5;241m.\u001B[39mget_tool_frame(arm)\n\u001B[1;32m    254\u001B[0m joints \u001B[38;5;241m=\u001B[39m robot_description\u001B[38;5;241m.\u001B[39mchains[arm]\u001B[38;5;241m.\u001B[39mjoints\n\u001B[0;32m--> 256\u001B[0m inv \u001B[38;5;241m=\u001B[39m \u001B[43mrequest_ik\u001B[49m\u001B[43m(\u001B[49m\u001B[43mtarget\u001B[49m\u001B[43m,\u001B[49m\u001B[43m \u001B[49m\u001B[43mrobot\u001B[49m\u001B[43m,\u001B[49m\u001B[43m \u001B[49m\u001B[43mjoints\u001B[49m\u001B[43m,\u001B[49m\u001B[43m \u001B[49m\u001B[43mgripper\u001B[49m\u001B[43m)\u001B[49m\n\u001B[1;32m    257\u001B[0m _apply_ik(robot, inv, joints)\n",
      "File \u001B[0;32m~/workspace/ros/src/pycram/src/pycram/external_interfaces/ik.py:133\u001B[0m, in \u001B[0;36mrequest_ik\u001B[0;34m(target_pose, robot, joints, gripper)\u001B[0m\n\u001B[1;32m    130\u001B[0m diff \u001B[38;5;241m=\u001B[39m calculate_wrist_tool_offset(end_effector, gripper, robot)\n\u001B[1;32m    131\u001B[0m target_diff \u001B[38;5;241m=\u001B[39m target_torso\u001B[38;5;241m.\u001B[39mto_transform(\u001B[38;5;124m\"\u001B[39m\u001B[38;5;124mtarget\u001B[39m\u001B[38;5;124m\"\u001B[39m)\u001B[38;5;241m.\u001B[39minverse_times(diff)\u001B[38;5;241m.\u001B[39mto_pose()\n\u001B[0;32m--> 133\u001B[0m inv \u001B[38;5;241m=\u001B[39m \u001B[43mcall_ik\u001B[49m\u001B[43m(\u001B[49m\u001B[43mbase_link\u001B[49m\u001B[43m,\u001B[49m\u001B[43m \u001B[49m\u001B[43mend_effector\u001B[49m\u001B[43m,\u001B[49m\u001B[43m \u001B[49m\u001B[43mtarget_diff\u001B[49m\u001B[43m,\u001B[49m\u001B[43m \u001B[49m\u001B[43mrobot\u001B[49m\u001B[43m,\u001B[49m\u001B[43m \u001B[49m\u001B[43mjoints\u001B[49m\u001B[43m)\u001B[49m\n\u001B[1;32m    135\u001B[0m \u001B[38;5;28;01mreturn\u001B[39;00m inv\n",
      "File \u001B[0;32m~/workspace/ros/src/pycram/src/pycram/external_interfaces/ik.py:90\u001B[0m, in \u001B[0;36mcall_ik\u001B[0;34m(root_link, tip_link, target_pose, robot_object, joints)\u001B[0m\n\u001B[1;32m     87\u001B[0m \u001B[38;5;28;01melse\u001B[39;00m:\n\u001B[1;32m     88\u001B[0m     ik_service \u001B[38;5;241m=\u001B[39m \u001B[38;5;124m\"\u001B[39m\u001B[38;5;124m/kdl_ik_service/get_ik\u001B[39m\u001B[38;5;124m\"\u001B[39m\n\u001B[0;32m---> 90\u001B[0m \u001B[43mrospy\u001B[49m\u001B[38;5;241;43m.\u001B[39;49m\u001B[43mwait_for_service\u001B[49m\u001B[43m(\u001B[49m\u001B[43mik_service\u001B[49m\u001B[43m)\u001B[49m\n\u001B[1;32m     92\u001B[0m req \u001B[38;5;241m=\u001B[39m _make_request_msg(root_link, tip_link, target_pose, robot_object, joints)\n\u001B[1;32m     93\u001B[0m req\u001B[38;5;241m.\u001B[39mpose_stamped\u001B[38;5;241m.\u001B[39mheader\u001B[38;5;241m.\u001B[39mframe_id \u001B[38;5;241m=\u001B[39m root_link\n",
      "File \u001B[0;32m/opt/ros/noetic/lib/python3/dist-packages/rospy/impl/tcpros_service.py:166\u001B[0m, in \u001B[0;36mwait_for_service\u001B[0;34m(service, timeout)\u001B[0m\n\u001B[1;32m    164\u001B[0m     time\u001B[38;5;241m.\u001B[39msleep(\u001B[38;5;241m0.3\u001B[39m)\n\u001B[1;32m    165\u001B[0m \u001B[38;5;28;01mif\u001B[39;00m rospy\u001B[38;5;241m.\u001B[39mcore\u001B[38;5;241m.\u001B[39mis_shutdown():\n\u001B[0;32m--> 166\u001B[0m     \u001B[38;5;28;01mraise\u001B[39;00m ROSInterruptException(\u001B[38;5;124m\"\u001B[39m\u001B[38;5;124mrospy shutdown\u001B[39m\u001B[38;5;124m\"\u001B[39m)\n",
      "\u001B[0;31mROSInterruptException\u001B[0m: rospy shutdown"
     ]
    }
   ],
   "source": [
    "from pycram.designators.action_designator import PickUpAction, PlaceAction, ParkArmsAction, MoveTorsoAction, NavigateAction\n",
    "from pycram.designators.object_designator import BelieveObject\n",
    "from pycram.process_module import simulated_robot\n",
    "from pycram.enums import Arms\n",
    "from pycram.pose import Pose\n",
    "\n",
    "milk_desig = BelieveObject(names=[\"milk\"])\n",
    "arm =\"right\"\n",
    "\n",
    "with simulated_robot:\n",
    "    ParkArmsAction([Arms.BOTH]).resolve().perform()\n",
    "    \n",
    "    MoveTorsoAction([0.3]).resolve().perform()\n",
    "    \n",
    "    NavigateAction([Pose([0.72, 0.98, 0.0], \n",
    "                     [0.0, 0.0, 0.014701099828940344, 0.9998919329926708])]).resolve().perform()\n",
    "    \n",
    "    PickUpAction(object_designator_description=milk_desig, \n",
    "                     arms=[arm], \n",
    "                     grasps=[\"right\"]).resolve().perform()\n",
    "    \n",
    "    NavigateAction([Pose([-1.90, 0.78, 0.0], \n",
    "                     [0.0, 0.0, 0.16439898301071468, 0.9863939245479175])]).resolve().perform()\n",
    "    \n",
    "    PlaceAction(object_designator_description=milk_desig, \n",
    "                target_locations=[Pose([-1.20, 1.0192, 0.9624], \n",
    "                                   [0.0, 0.0, 0.6339889056055381, 0.7733421413379024])], \n",
    "                arms=[arm]).resolve().perform()"
   ]
  },
  {
   "cell_type": "code",
   "execution_count": 7,
   "id": "9519886b",
   "metadata": {
    "ExecuteTime": {
     "end_time": "2024-03-20T17:43:25.822177991Z",
     "start_time": "2024-03-20T17:43:25.610863556Z"
    }
   },
   "outputs": [],
   "source": [
    "world.reset_bullet_world()"
   ]
  },
  {
   "cell_type": "markdown",
   "id": "72e04d08",
   "metadata": {},
   "source": [
    "## Look At\n",
    "Look at lets the robot look at a specific point, for example if it should look at an object for detecting. "
   ]
  },
  {
   "cell_type": "code",
   "execution_count": 9,
   "id": "aa86a53d",
   "metadata": {},
   "outputs": [],
   "source": [
    "from pycram.designators.action_designator import LookAtAction\n",
    "from pycram.process_module import simulated_robot\n",
    "from pycram.pose import Pose\n",
    "\n",
    "target_location = Pose([1, 0, 0.5], [0, 0, 0, 1])\n",
    "with simulated_robot:\n",
    "    LookAtAction(targets=[target_location]).resolve().perform()"
   ]
  },
  {
   "cell_type": "markdown",
   "id": "2f1838d1",
   "metadata": {},
   "source": [
    "## Detect\n",
    "Detect is used to detect objects in the field of vision (FOV) of the robot. We will use the milk used in the pick up/place example, if you didn't execute that example you can spawn the milk with the following cell. The detect designator will return a resolved instance of an ObjectDesignatorDescription. "
   ]
  },
  {
   "cell_type": "code",
   "execution_count": 13,
   "id": "e52a5062",
   "metadata": {
    "ExecuteTime": {
     "end_time": "2024-03-14T11:39:39.409548011Z",
     "start_time": "2024-03-14T11:39:39.168673341Z"
    }
   },
   "outputs": [],
   "source": [
    "milk = Object(\"milk\", ObjectType.MILK, \"milk.stl\", pose=Pose([1.3, 1, 0.9]))"
   ]
  },
  {
   "cell_type": "code",
   "execution_count": 22,
   "id": "368e1902",
   "metadata": {
    "ExecuteTime": {
     "end_time": "2024-03-28T13:40:59.526260220Z",
     "start_time": "2024-03-28T13:40:56.998721604Z"
    }
   },
   "outputs": [
    {
     "name": "stdout",
     "output_type": "stream",
     "text": [
      "JSON Info: {'code': {'function': 'perform', 'kwargs': {'self': {'action_type': 'ParkArmsAction', 'arm': 'BOTH'}}}, 'status': 'CREATED', 'start_time': None, 'end_time': None, 'id': 140425876067712, 'parent_id': 140427727196320}\n",
      "JSON Info: {'code': {'function': 'perform', 'kwargs': {'self': {'action_type': 'NavigateAction', 'target_location': {'position': [0, 1, 0], 'orientation': [0.0, 0.0, 0.0, 1.0], 'frame': 'map'}}}}, 'status': 'CREATED', 'start_time': None, 'end_time': None, 'id': 140425876055040, 'parent_id': 140427727196320}\n",
      "JSON Info: {'code': {'function': 'perform', 'kwargs': {'self': {'motion_type': 'MoveMotion', 'target': {'position': [0, 1, 0], 'orientation': [0.0, 0.0, 0.0, 1.0], 'frame': 'map'}}}}, 'status': 'CREATED', 'start_time': None, 'end_time': None, 'id': 140425876068048, 'parent_id': 140425876055040}\n",
      "JSON Info: {'code': {'function': 'perform', 'kwargs': {'self': {'action_type': 'LookAtAction', 'target': {'position': [1.3, 1.0, 0.9], 'orientation': [0.0, 0.0, 0.0, 1.0], 'frame': 'map'}}}}, 'status': 'CREATED', 'start_time': None, 'end_time': None, 'id': 140425876067760, 'parent_id': 140427727196320}\n",
      "JSON Info: {'code': {'function': 'perform', 'kwargs': {}}, 'status': 'CREATED', 'start_time': None, 'end_time': None, 'id': 140425876069200, 'parent_id': 140425876067760}\n",
      "JSON Info: {'code': {'function': 'perform', 'kwargs': {'self': {'action_type': 'DetectAction', 'object_designator': {'type': <ObjectType.MILK: 1>, 'name': 'milk'}}}}, 'status': 'CREATED', 'start_time': None, 'end_time': None, 'id': 140425876068096, 'parent_id': 140427727196320}\n",
      "JSON Info: {'code': {'function': 'perform', 'kwargs': {}}, 'status': 'CREATED', 'start_time': None, 'end_time': None, 'id': 140425876068864, 'parent_id': 140425876068096}\n",
      "ObjectDesignatorDescription.Object(name=milk, type=ObjectType.MILK, bullet_world_object=Object(world=<pycram.bullet_world.BulletWorld object at 0x7fb746cee0d0>, \n",
      "local_transformer=<pycram.local_transformer.LocalTransformer object at 0x7fb7e0be36a0>, \n",
      "name=milk, \n",
      "type=ObjectType.MILK, \n",
      "color=[1, 1, 1, 1], \n",
      "id=4, \n",
      "path=/home/ease/workspace/ros/src/pycram/src/pycram/../../resources/cached/milk.urdf, \n",
      "joints: ..., \n",
      "links: ..., \n",
      "attachments: ..., \n",
      "cids: ..., \n",
      "original_pose=header: \n",
      "  seq: 0\n",
      "  stamp: \n",
      "    secs: 1711631071\n",
      "    nsecs:  10228395\n",
      "  frame_id: \"map\"\n",
      "pose: \n",
      "  position: \n",
      "    x: 1.3\n",
      "    y: 1.0\n",
      "    z: 0.9\n",
      "  orientation: \n",
      "    x: 0.0\n",
      "    y: 0.0\n",
      "    z: 0.0\n",
      "    w: 1.0, \n",
      "tf_frame=milk_4, \n",
      "urdf_object: ..., \n",
      "_current_pose=header: \n",
      "  seq: 0\n",
      "  stamp: \n",
      "    secs: 1711631071\n",
      "    nsecs: 119619131\n",
      "  frame_id: \"map\"\n",
      "pose: \n",
      "  position: \n",
      "    x: 1.3\n",
      "    y: 1.0\n",
      "    z: 0.9\n",
      "  orientation: \n",
      "    x: 0.0\n",
      "    y: 0.0\n",
      "    z: 0.0\n",
      "    w: 1.0, \n",
      "_current_link_poses: ..., \n",
      "_current_link_transforms: ..., \n",
      "_current_joint_states={}, \n",
      "base_origin_shift=[ 4.15300950e-04 -6.29518181e-05  8.96554102e-02], \n",
      "link_to_geometry: ...), _pose=<bound method Object.get_pose of Object(world=<pycram.bullet_world.BulletWorld object at 0x7fb746cee0d0>, \n",
      "local_transformer=<pycram.local_transformer.LocalTransformer object at 0x7fb7e0be36a0>, \n",
      "name=milk, \n",
      "type=ObjectType.MILK, \n",
      "color=[1, 1, 1, 1], \n",
      "id=4, \n",
      "path=/home/ease/workspace/ros/src/pycram/src/pycram/../../resources/cached/milk.urdf, \n",
      "joints: ..., \n",
      "links: ..., \n",
      "attachments: ..., \n",
      "cids: ..., \n",
      "original_pose=header: \n",
      "  seq: 0\n",
      "  stamp: \n",
      "    secs: 1711631071\n",
      "    nsecs:  10228395\n",
      "  frame_id: \"map\"\n",
      "pose: \n",
      "  position: \n",
      "    x: 1.3\n",
      "    y: 1.0\n",
      "    z: 0.9\n",
      "  orientation: \n",
      "    x: 0.0\n",
      "    y: 0.0\n",
      "    z: 0.0\n",
      "    w: 1.0, \n",
      "tf_frame=milk_4, \n",
      "urdf_object: ..., \n",
      "_current_pose=header: \n",
      "  seq: 0\n",
      "  stamp: \n",
      "    secs: 1711631071\n",
      "    nsecs: 119619131\n",
      "  frame_id: \"map\"\n",
      "pose: \n",
      "  position: \n",
      "    x: 1.3\n",
      "    y: 1.0\n",
      "    z: 0.9\n",
      "  orientation: \n",
      "    x: 0.0\n",
      "    y: 0.0\n",
      "    z: 0.0\n",
      "    w: 1.0, \n",
      "_current_link_poses: ..., \n",
      "_current_link_transforms: ..., \n",
      "_current_joint_states={}, \n",
      "base_origin_shift=[ 4.15300950e-04 -6.29518181e-05  8.96554102e-02], \n",
      "link_to_geometry: ...)>, pose=header: \n",
      "  seq: 0\n",
      "  stamp: \n",
      "    secs: 1711631071\n",
      "    nsecs: 119619131\n",
      "  frame_id: \"map\"\n",
      "pose: \n",
      "  position: \n",
      "    x: 1.3\n",
      "    y: 1.0\n",
      "    z: 0.9\n",
      "  orientation: \n",
      "    x: 0.0\n",
      "    y: 0.0\n",
      "    z: 0.0\n",
      "    w: 1.0)\n"
     ]
    }
   ],
   "source": [
    "from pycram.designators.action_designator import DetectAction, LookAtAction, ParkArmsAction, NavigateAction\n",
    "from pycram.designators.object_designator import BelieveObject\n",
    "from pycram.enums import Arms\n",
    "from pycram.process_module import simulated_robot\n",
    "from pycram.pose import Pose\n",
    "\n",
    "milk_desig = BelieveObject(names=[\"milk\"])\n",
    "\n",
    "with simulated_robot:\n",
    "    ParkArmsAction([Arms.BOTH]).resolve().perform()\n",
    "    \n",
    "    NavigateAction([Pose([0, 1, 0], [0, 0, 0, 1])]).resolve().perform()\n",
    "    \n",
    "    LookAtAction(targets=[milk_desig.resolve().pose]).resolve().perform()\n",
    "    \n",
    "    obj_desig = DetectAction(milk_desig).resolve().perform()\n",
    "    \n",
    "    print(obj_desig)"
   ]
  },
  {
   "cell_type": "markdown",
   "id": "2480ea22",
   "metadata": {},
   "source": [
    "## Transporting\n",
    "Transporting can transport an object from its current position to another target position. It is similar to the Pick and Place plan used in the Pick-up and Place example. Since we need an Object which we can transport we spawn a milk, you don't need to do this if you alredy spawned it in a previous example."
   ]
  },
  {
   "cell_type": "code",
   "execution_count": 7,
   "id": "101d3968",
   "metadata": {},
   "outputs": [
    {
     "name": "stderr",
     "output_type": "stream",
     "text": [
      "Scalar element defined multiple times: limit\n",
      "Scalar element defined multiple times: limit\n"
     ]
    }
   ],
   "source": [
    "kitchen = Object(\"kitchen\", ObjectType.ENVIRONMENT, \"kitchen.urdf\")\n",
    "milk = Object(\"milk\", ObjectType.MILK, \"milk.stl\", pose=Pose([1.3, 1, 0.9]))"
   ]
  },
  {
   "cell_type": "code",
   "execution_count": 23,
   "id": "86a085a7",
   "metadata": {
    "ExecuteTime": {
     "end_time": "2024-03-28T13:43:04.999420561Z",
     "start_time": "2024-03-28T13:43:02.460498701Z"
    }
   },
   "outputs": [
    {
     "name": "stdout",
     "output_type": "stream",
     "text": [
      "JSON Info: {'code': {'function': 'perform', 'kwargs': {'self': {'action_type': 'MoveTorsoAction', 'position': 0.3}}}, 'status': 'CREATED', 'start_time': None, 'end_time': None, 'id': 140427169547648, 'parent_id': 140427727196320}\n",
      "JSON Info: {'code': {'function': 'perform', 'kwargs': {'self': {'action_type': 'TransportAction', 'object_designator': {'type': <ObjectType.MILK: 1>, 'name': 'milk'}, 'arm': 'left', 'target_location': {'position': [-0.9, 0.9, 0.95], 'orientation': [0.0, 0.0, 1.0, 0.0], 'frame': 'map'}}}}, 'status': 'CREATED', 'start_time': None, 'end_time': None, 'id': 140425876058016, 'parent_id': 140427727196320}\n",
      "JSON Info: {'code': {'function': 'perform', 'kwargs': {'self': {'action_type': 'ParkArmsAction', 'arm': 'BOTH'}}}, 'status': 'CREATED', 'start_time': None, 'end_time': None, 'id': 140425876057728, 'parent_id': 140425876058016}\n"
     ]
    },
    {
     "ename": "ROSInterruptException",
     "evalue": "rospy shutdown",
     "output_type": "error",
     "traceback": [
      "\u001B[0;31m---------------------------------------------------------------------------\u001B[0m",
      "\u001B[0;31mROSInterruptException\u001B[0m                     Traceback (most recent call last)",
      "Cell \u001B[0;32mIn[23], line 10\u001B[0m\n\u001B[1;32m      8\u001B[0m \u001B[38;5;28;01mwith\u001B[39;00m simulated_robot:\n\u001B[1;32m      9\u001B[0m     MoveTorsoAction([\u001B[38;5;241m0.3\u001B[39m])\u001B[38;5;241m.\u001B[39mresolve()\u001B[38;5;241m.\u001B[39mperform()\n\u001B[0;32m---> 10\u001B[0m     \u001B[43mTransportAction\u001B[49m\u001B[43m(\u001B[49m\u001B[43mmilk_desig\u001B[49m\u001B[43m,\u001B[49m\u001B[43m \u001B[49m\u001B[43m[\u001B[49m\u001B[38;5;124;43m\"\u001B[39;49m\u001B[38;5;124;43mleft\u001B[39;49m\u001B[38;5;124;43m\"\u001B[39;49m\u001B[43m]\u001B[49m\u001B[43m,\u001B[49m\u001B[43m \u001B[49m\u001B[43m[\u001B[49m\u001B[43mPose\u001B[49m\u001B[43m(\u001B[49m\u001B[43m[\u001B[49m\u001B[38;5;241;43m-\u001B[39;49m\u001B[38;5;241;43m0.9\u001B[39;49m\u001B[43m,\u001B[49m\u001B[43m \u001B[49m\u001B[38;5;241;43m0.9\u001B[39;49m\u001B[43m,\u001B[49m\u001B[43m \u001B[49m\u001B[38;5;241;43m0.95\u001B[39;49m\u001B[43m]\u001B[49m\u001B[43m,\u001B[49m\u001B[43m \u001B[49m\u001B[43m[\u001B[49m\u001B[38;5;241;43m0\u001B[39;49m\u001B[43m,\u001B[49m\u001B[43m \u001B[49m\u001B[38;5;241;43m0\u001B[39;49m\u001B[43m,\u001B[49m\u001B[43m \u001B[49m\u001B[38;5;241;43m1\u001B[39;49m\u001B[43m,\u001B[49m\u001B[43m \u001B[49m\u001B[38;5;241;43m0\u001B[39;49m\u001B[43m]\u001B[49m\u001B[43m)\u001B[49m\u001B[43m]\u001B[49m\u001B[43m)\u001B[49m\u001B[38;5;241;43m.\u001B[39;49m\u001B[43mresolve\u001B[49m\u001B[43m(\u001B[49m\u001B[43m)\u001B[49m\u001B[38;5;241;43m.\u001B[39;49m\u001B[43mperform\u001B[49m\u001B[43m(\u001B[49m\u001B[43m)\u001B[49m\n",
      "File \u001B[0;32m~/workspace/ros/src/pycram/src/pycram/task.py:324\u001B[0m, in \u001B[0;36mwith_tree.<locals>.handle_tree\u001B[0;34m(*args, **kwargs)\u001B[0m\n\u001B[1;32m    322\u001B[0m task_tree\u001B[38;5;241m.\u001B[39mstatus \u001B[38;5;241m=\u001B[39m TaskStatus\u001B[38;5;241m.\u001B[39mCREATED\n\u001B[1;32m    323\u001B[0m task_tree\u001B[38;5;241m.\u001B[39mstart_time \u001B[38;5;241m=\u001B[39m datetime\u001B[38;5;241m.\u001B[39mdatetime\u001B[38;5;241m.\u001B[39mnow()\n\u001B[0;32m--> 324\u001B[0m result \u001B[38;5;241m=\u001B[39m \u001B[43mtask_tree\u001B[49m\u001B[38;5;241;43m.\u001B[39;49m\u001B[43mcode\u001B[49m\u001B[38;5;241;43m.\u001B[39;49m\u001B[43mexecute\u001B[49m\u001B[43m(\u001B[49m\u001B[43m)\u001B[49m\n\u001B[1;32m    326\u001B[0m \u001B[38;5;66;03m# if it succeeded set the flag\u001B[39;00m\n\u001B[1;32m    327\u001B[0m task_tree\u001B[38;5;241m.\u001B[39mstatus \u001B[38;5;241m=\u001B[39m TaskStatus\u001B[38;5;241m.\u001B[39mSUCCEEDED\n",
      "File \u001B[0;32m~/workspace/ros/src/pycram/src/pycram/task.py:52\u001B[0m, in \u001B[0;36mCode.execute\u001B[0;34m(self)\u001B[0m\n\u001B[1;32m     46\u001B[0m \u001B[38;5;28;01mdef\u001B[39;00m \u001B[38;5;21mexecute\u001B[39m(\u001B[38;5;28mself\u001B[39m) \u001B[38;5;241m-\u001B[39m\u001B[38;5;241m>\u001B[39m Any:\n\u001B[1;32m     47\u001B[0m \u001B[38;5;250m    \u001B[39m\u001B[38;5;124;03m\"\"\"\u001B[39;00m\n\u001B[1;32m     48\u001B[0m \u001B[38;5;124;03m    Execute the code with its arguments\u001B[39;00m\n\u001B[1;32m     49\u001B[0m \n\u001B[1;32m     50\u001B[0m \u001B[38;5;124;03m    :returns: Anything that the function associated with this object will return.\u001B[39;00m\n\u001B[1;32m     51\u001B[0m \u001B[38;5;124;03m    \"\"\"\u001B[39;00m\n\u001B[0;32m---> 52\u001B[0m     \u001B[38;5;28;01mreturn\u001B[39;00m \u001B[38;5;28;43mself\u001B[39;49m\u001B[38;5;241;43m.\u001B[39;49m\u001B[43mfunction\u001B[49m\u001B[43m(\u001B[49m\u001B[38;5;241;43m*\u001B[39;49m\u001B[38;5;241;43m*\u001B[39;49m\u001B[38;5;28;43mself\u001B[39;49m\u001B[38;5;241;43m.\u001B[39;49m\u001B[43mkwargs\u001B[49m\u001B[43m)\u001B[49m\n",
      "File \u001B[0;32m~/workspace/ros/src/pycram/src/pycram/designators/action_designator.py:674\u001B[0m, in \u001B[0;36mperform\u001B[0;34m(self)\u001B[0m\n\u001B[1;32m    672\u001B[0m \u001B[38;5;28;01mfor\u001B[39;00m pose \u001B[38;5;129;01min\u001B[39;00m pickup_loc:\n\u001B[1;32m    673\u001B[0m     \u001B[38;5;28;01mif\u001B[39;00m \u001B[38;5;28mself\u001B[39m\u001B[38;5;241m.\u001B[39marm \u001B[38;5;129;01min\u001B[39;00m pose\u001B[38;5;241m.\u001B[39mreachable_arms:\n\u001B[0;32m--> 674\u001B[0m         pickup_pose \u001B[38;5;241m=\u001B[39m pose\n\u001B[1;32m    675\u001B[0m         \u001B[38;5;28;01mbreak\u001B[39;00m\n\u001B[1;32m    676\u001B[0m \u001B[38;5;28;01mif\u001B[39;00m \u001B[38;5;129;01mnot\u001B[39;00m pickup_pose:\n",
      "File \u001B[0;32m~/workspace/ros/src/pycram/src/pycram/designators/location_designator.py:198\u001B[0m, in \u001B[0;36mCostmapLocation.__iter__\u001B[0;34m(self)\u001B[0m\n\u001B[1;32m    196\u001B[0m     \u001B[38;5;28;01mif\u001B[39;00m \u001B[38;5;28misinstance\u001B[39m(chain, ManipulatorDescription):\n\u001B[1;32m    197\u001B[0m         hand_links \u001B[38;5;241m+\u001B[39m\u001B[38;5;241m=\u001B[39m chain\u001B[38;5;241m.\u001B[39mgripper\u001B[38;5;241m.\u001B[39mlinks\n\u001B[0;32m--> 198\u001B[0m valid, arms \u001B[38;5;241m=\u001B[39m \u001B[43mreachability_validator\u001B[49m\u001B[43m(\u001B[49m\u001B[43mmaybe_pose\u001B[49m\u001B[43m,\u001B[49m\u001B[43m \u001B[49m\u001B[43mtest_robot\u001B[49m\u001B[43m,\u001B[49m\u001B[43m \u001B[49m\u001B[43mtarget_pose\u001B[49m\u001B[43m,\u001B[49m\n\u001B[1;32m    199\u001B[0m \u001B[43m                                     \u001B[49m\u001B[43mallowed_collision\u001B[49m\u001B[38;5;241;43m=\u001B[39;49m\u001B[43m{\u001B[49m\u001B[43mtest_robot\u001B[49m\u001B[43m:\u001B[49m\u001B[43m \u001B[49m\u001B[43mhand_links\u001B[49m\u001B[43m}\u001B[49m\u001B[43m)\u001B[49m\n\u001B[1;32m    200\u001B[0m \u001B[38;5;28;01mif\u001B[39;00m \u001B[38;5;28mself\u001B[39m\u001B[38;5;241m.\u001B[39mreachable_arm:\n\u001B[1;32m    201\u001B[0m     res \u001B[38;5;241m=\u001B[39m res \u001B[38;5;129;01mand\u001B[39;00m valid \u001B[38;5;129;01mand\u001B[39;00m \u001B[38;5;28mself\u001B[39m\u001B[38;5;241m.\u001B[39mreachable_arm \u001B[38;5;129;01min\u001B[39;00m arms\n",
      "File \u001B[0;32m~/workspace/ros/src/pycram/src/pycram/pose_generator_and_validator.py:156\u001B[0m, in \u001B[0;36mreachability_validator\u001B[0;34m(pose, robot, target, allowed_collision)\u001B[0m\n\u001B[1;32m    152\u001B[0m     allowed_robot_links \u001B[38;5;241m=\u001B[39m allowed_collision[robot]\n\u001B[1;32m    154\u001B[0m \u001B[38;5;28;01mtry\u001B[39;00m:\n\u001B[1;32m    155\u001B[0m     \u001B[38;5;66;03m# resp = request_ik(base_link, end_effector, target_diff, robot, left_joints)\u001B[39;00m\n\u001B[0;32m--> 156\u001B[0m     resp \u001B[38;5;241m=\u001B[39m \u001B[43mrequest_ik\u001B[49m\u001B[43m(\u001B[49m\u001B[43mtarget\u001B[49m\u001B[43m,\u001B[49m\u001B[43m \u001B[49m\u001B[43mrobot\u001B[49m\u001B[43m,\u001B[49m\u001B[43m \u001B[49m\u001B[43mleft_joints\u001B[49m\u001B[43m,\u001B[49m\u001B[43m \u001B[49m\u001B[43mleft_gripper\u001B[49m\u001B[43m)\u001B[49m\n\u001B[1;32m    158\u001B[0m     _apply_ik(robot, resp, left_joints)\n\u001B[1;32m    160\u001B[0m     \u001B[38;5;28;01mfor\u001B[39;00m obj \u001B[38;5;129;01min\u001B[39;00m BulletWorld\u001B[38;5;241m.\u001B[39mcurrent_bullet_world\u001B[38;5;241m.\u001B[39mobjects:\n",
      "File \u001B[0;32m~/workspace/ros/src/pycram/src/pycram/external_interfaces/ik.py:133\u001B[0m, in \u001B[0;36mrequest_ik\u001B[0;34m(target_pose, robot, joints, gripper)\u001B[0m\n\u001B[1;32m    130\u001B[0m diff \u001B[38;5;241m=\u001B[39m calculate_wrist_tool_offset(end_effector, gripper, robot)\n\u001B[1;32m    131\u001B[0m target_diff \u001B[38;5;241m=\u001B[39m target_torso\u001B[38;5;241m.\u001B[39mto_transform(\u001B[38;5;124m\"\u001B[39m\u001B[38;5;124mtarget\u001B[39m\u001B[38;5;124m\"\u001B[39m)\u001B[38;5;241m.\u001B[39minverse_times(diff)\u001B[38;5;241m.\u001B[39mto_pose()\n\u001B[0;32m--> 133\u001B[0m inv \u001B[38;5;241m=\u001B[39m \u001B[43mcall_ik\u001B[49m\u001B[43m(\u001B[49m\u001B[43mbase_link\u001B[49m\u001B[43m,\u001B[49m\u001B[43m \u001B[49m\u001B[43mend_effector\u001B[49m\u001B[43m,\u001B[49m\u001B[43m \u001B[49m\u001B[43mtarget_diff\u001B[49m\u001B[43m,\u001B[49m\u001B[43m \u001B[49m\u001B[43mrobot\u001B[49m\u001B[43m,\u001B[49m\u001B[43m \u001B[49m\u001B[43mjoints\u001B[49m\u001B[43m)\u001B[49m\n\u001B[1;32m    135\u001B[0m \u001B[38;5;28;01mreturn\u001B[39;00m inv\n",
      "File \u001B[0;32m~/workspace/ros/src/pycram/src/pycram/external_interfaces/ik.py:90\u001B[0m, in \u001B[0;36mcall_ik\u001B[0;34m(root_link, tip_link, target_pose, robot_object, joints)\u001B[0m\n\u001B[1;32m     87\u001B[0m \u001B[38;5;28;01melse\u001B[39;00m:\n\u001B[1;32m     88\u001B[0m     ik_service \u001B[38;5;241m=\u001B[39m \u001B[38;5;124m\"\u001B[39m\u001B[38;5;124m/kdl_ik_service/get_ik\u001B[39m\u001B[38;5;124m\"\u001B[39m\n\u001B[0;32m---> 90\u001B[0m \u001B[43mrospy\u001B[49m\u001B[38;5;241;43m.\u001B[39;49m\u001B[43mwait_for_service\u001B[49m\u001B[43m(\u001B[49m\u001B[43mik_service\u001B[49m\u001B[43m)\u001B[49m\n\u001B[1;32m     92\u001B[0m req \u001B[38;5;241m=\u001B[39m _make_request_msg(root_link, tip_link, target_pose, robot_object, joints)\n\u001B[1;32m     93\u001B[0m req\u001B[38;5;241m.\u001B[39mpose_stamped\u001B[38;5;241m.\u001B[39mheader\u001B[38;5;241m.\u001B[39mframe_id \u001B[38;5;241m=\u001B[39m root_link\n",
      "File \u001B[0;32m/opt/ros/noetic/lib/python3/dist-packages/rospy/impl/tcpros_service.py:166\u001B[0m, in \u001B[0;36mwait_for_service\u001B[0;34m(service, timeout)\u001B[0m\n\u001B[1;32m    164\u001B[0m     time\u001B[38;5;241m.\u001B[39msleep(\u001B[38;5;241m0.3\u001B[39m)\n\u001B[1;32m    165\u001B[0m \u001B[38;5;28;01mif\u001B[39;00m rospy\u001B[38;5;241m.\u001B[39mcore\u001B[38;5;241m.\u001B[39mis_shutdown():\n\u001B[0;32m--> 166\u001B[0m     \u001B[38;5;28;01mraise\u001B[39;00m ROSInterruptException(\u001B[38;5;124m\"\u001B[39m\u001B[38;5;124mrospy shutdown\u001B[39m\u001B[38;5;124m\"\u001B[39m)\n",
      "\u001B[0;31mROSInterruptException\u001B[0m: rospy shutdown"
     ]
    }
   ],
   "source": [
    "from pycram.designators.action_designator import *\n",
    "from pycram.designators.object_designator import *\n",
    "from pycram.process_module import simulated_robot\n",
    "from pycram.pose import Pose\n",
    "\n",
    "milk_desig = BelieveObject(names=[\"milk\"])\n",
    "\n",
    "with simulated_robot:\n",
    "    MoveTorsoAction([0.3]).resolve().perform()\n",
    "    TransportAction(milk_desig, [\"left\"], [Pose([-0.9, 0.9, 0.95], [0, 0, 1, 0])]).resolve().perform()"
   ]
  },
  {
   "cell_type": "markdown",
   "id": "de2eb218",
   "metadata": {},
   "source": [
    "## Opening\n",
    "Opening allows the robot to open a drawer, the drawer is identified by an ObjectPart designator which describes the handle of the drawer that should be grasped. \n",
    "\n",
    "For the moment this designator works only in the apartment environment, therefore we remove the kitchen and spawn the apartment."
   ]
  },
  {
   "cell_type": "code",
   "execution_count": 12,
   "id": "85fde530",
   "metadata": {},
   "outputs": [],
   "source": [
    "kitchen.remove()"
   ]
  },
  {
   "cell_type": "code",
   "execution_count": 24,
   "id": "27937aa5",
   "metadata": {
    "ExecuteTime": {
     "end_time": "2024-03-28T13:43:36.605924585Z",
     "start_time": "2024-03-28T13:43:22.369665348Z"
    }
   },
   "outputs": [
    {
     "name": "stderr",
     "output_type": "stream",
     "text": [
      "Unknown tag \"material\" in /robot[@name='apartment']/link[@name='coffe_machine']/collision[1]\n"
     ]
    }
   ],
   "source": [
    "apartment = Object(\"apartment\", ObjectType.ENVIRONMENT, \"apartment.urdf\")"
   ]
  },
  {
   "cell_type": "code",
   "execution_count": 25,
   "id": "ec8817a5",
   "metadata": {
    "ExecuteTime": {
     "end_time": "2024-03-28T13:43:55.453706934Z",
     "start_time": "2024-03-28T13:43:53.789913283Z"
    }
   },
   "outputs": [
    {
     "name": "stdout",
     "output_type": "stream",
     "text": [
      "JSON Info: {'code': {'function': 'perform', 'kwargs': {'self': {'action_type': 'MoveTorsoAction', 'position': 0.25}}}, 'status': 'CREATED', 'start_time': None, 'end_time': None, 'id': 140425138590720, 'parent_id': 140427727196320}\n",
      "JSON Info: {'code': {'function': 'perform', 'kwargs': {'self': {'action_type': 'ParkArmsAction', 'arm': 'BOTH'}}}, 'status': 'CREATED', 'start_time': None, 'end_time': None, 'id': 140425366991008, 'parent_id': 140427727196320}\n",
      "JSON Info: {'code': {'function': 'perform', 'kwargs': {'self': {'action_type': 'NavigateAction', 'target_location': {'position': [1.7474915981292725, 2.6873629093170166, 0.0], 'orientation': [-0.0, 0.0, 0.5253598267689507, -0.850880163370435], 'frame': 'map'}}}}, 'status': 'CREATED', 'start_time': None, 'end_time': None, 'id': 140425138591440, 'parent_id': 140427727196320}\n",
      "JSON Info: {'code': {'function': 'perform', 'kwargs': {'self': {'motion_type': 'MoveMotion', 'target': {'position': [1.7474915981292725, 2.6873629093170166, 0.0], 'orientation': [-0.0, 0.0, 0.5253598267689507, -0.850880163370435], 'frame': 'map'}}}}, 'status': 'CREATED', 'start_time': None, 'end_time': None, 'id': 140425138591872, 'parent_id': 140425138591440}\n",
      "JSON Info: {'code': {'function': 'perform', 'kwargs': {'self': {'action_type': 'OpenAction', 'object_designator': {'type': None, 'name': 'handle_cab10_t', 'part_pose': {'position': [2.267491579055786, 2.2473597526550293, 0.8849999904632568], 'orientation': [0.706824345428308, -0.001125727171250961, -0.0011266239184536168, 0.7073873112847913], 'frame': 'map'}}, 'arm': 'right'}}}, 'status': 'CREATED', 'start_time': None, 'end_time': None, 'id': 140425138592496, 'parent_id': 140427727196320}\n",
      "JSON Info: {'code': {'function': 'perform', 'kwargs': {'self': {'motion_type': 'MoveTCPMotion', 'target': {'position': [0.45598794648989593, 0.55999159086767, -0.24709195613930468], 'orientation': [0.6783572481680552, 0.24186658443312817, 0.23103906470249608, 0.6541811291790004], 'frame': 'pr2_2/r_gripper_tool_frame'}, 'arm': 'right', 'allow_gripper_collision': None}}}, 'status': 'CREATED', 'start_time': None, 'end_time': None, 'id': 140425138593072, 'parent_id': 140425138592496}\n",
      "Unexpected exception formatting exception. Falling back to standard exception\n"
     ]
    },
    {
     "name": "stderr",
     "output_type": "stream",
     "text": [
      "Traceback (most recent call last):\n",
      "  File \"/home/ease/workspace/ros/src/pycram/venv/lib/python3.8/site-packages/IPython/core/interactiveshell.py\", line 3508, in run_code\n",
      "    exec(code_obj, self.user_global_ns, self.user_ns)\n",
      "  File \"/tmp/ipykernel_21444/2609224526.py\", line 15, in <module>\n",
      "    OpenAction(handle_deisg, [\"right\"]).resolve().perform()\n",
      "  File \"/home/ease/workspace/ros/src/pycram/src/pycram/task.py\", line 324, in handle_tree\n",
      "    # Print information about the executable code\n",
      "  File \"/home/ease/workspace/ros/src/pycram/src/pycram/task.py\", line 52, in execute\n",
      "    \"\"\"\n",
      "  File \"/home/ease/workspace/ros/src/pycram/src/pycram/designators/action_designator.py\", line 889, in perform\n",
      "  File \"/home/ease/workspace/ros/src/pycram/src/pycram/designators/action_designator.py\", line 1042, in perform\n",
      "  File \"/home/ease/workspace/ros/src/pycram/src/pycram/task.py\", line 324, in handle_tree\n",
      "    # Print information about the executable code\n",
      "  File \"/home/ease/workspace/ros/src/pycram/src/pycram/task.py\", line 52, in execute\n",
      "    \"\"\"\n",
      "  File \"/home/ease/workspace/ros/src/pycram/src/pycram/designators/motion_designator.py\", line 218, in perform\n",
      "    \"\"\"\n",
      "  File \"/home/ease/workspace/ros/src/pycram/src/pycram/process_module.py\", line 53, in execute\n",
      "    ret = self._execute(designator)\n",
      "  File \"/home/ease/workspace/ros/src/pycram/src/pycram/process_modules/pr2_process_modules.py\", line 174, in _execute\n",
      "    _move_arm_tcp(target, robot, desig.arm)\n",
      "  File \"/home/ease/workspace/ros/src/pycram/src/pycram/process_modules/pr2_process_modules.py\", line 256, in _move_arm_tcp\n",
      "    inv = request_ik(target, robot, joints, gripper)\n",
      "  File \"/home/ease/workspace/ros/src/pycram/src/pycram/external_interfaces/ik.py\", line 133, in request_ik\n",
      "    inv = call_ik(base_link, end_effector, target_diff, robot, joints)\n",
      "  File \"/home/ease/workspace/ros/src/pycram/src/pycram/external_interfaces/ik.py\", line 90, in call_ik\n",
      "    rospy.wait_for_service(ik_service)\n",
      "  File \"/opt/ros/noetic/lib/python3/dist-packages/rospy/impl/tcpros_service.py\", line 166, in wait_for_service\n",
      "    raise ROSInterruptException(\"rospy shutdown\")\n",
      "rospy.exceptions.ROSInterruptException: rospy shutdown\n",
      "\n",
      "During handling of the above exception, another exception occurred:\n",
      "\n",
      "Traceback (most recent call last):\n",
      "  File \"/home/ease/workspace/ros/src/pycram/venv/lib/python3.8/site-packages/IPython/core/interactiveshell.py\", line 2105, in showtraceback\n",
      "    stb = self.InteractiveTB.structured_traceback(\n",
      "  File \"/home/ease/workspace/ros/src/pycram/venv/lib/python3.8/site-packages/IPython/core/ultratb.py\", line 1396, in structured_traceback\n",
      "    return FormattedTB.structured_traceback(\n",
      "  File \"/home/ease/workspace/ros/src/pycram/venv/lib/python3.8/site-packages/IPython/core/ultratb.py\", line 1287, in structured_traceback\n",
      "    return VerboseTB.structured_traceback(\n",
      "  File \"/home/ease/workspace/ros/src/pycram/venv/lib/python3.8/site-packages/IPython/core/ultratb.py\", line 1140, in structured_traceback\n",
      "    formatted_exception = self.format_exception_as_a_whole(etype, evalue, etb, number_of_lines_of_context,\n",
      "  File \"/home/ease/workspace/ros/src/pycram/venv/lib/python3.8/site-packages/IPython/core/ultratb.py\", line 1055, in format_exception_as_a_whole\n",
      "    frames.append(self.format_record(record))\n",
      "  File \"/home/ease/workspace/ros/src/pycram/venv/lib/python3.8/site-packages/IPython/core/ultratb.py\", line 955, in format_record\n",
      "    frame_info.lines, Colors, self.has_colors, lvals\n",
      "  File \"/home/ease/workspace/ros/src/pycram/venv/lib/python3.8/site-packages/IPython/core/ultratb.py\", line 778, in lines\n",
      "    return self._sd.lines\n",
      "  File \"/home/ease/workspace/ros/src/pycram/venv/lib/python3.8/site-packages/stack_data/utils.py\", line 144, in cached_property_wrapper\n",
      "    value = obj.__dict__[self.func.__name__] = self.func(obj)\n",
      "  File \"/home/ease/workspace/ros/src/pycram/venv/lib/python3.8/site-packages/stack_data/core.py\", line 734, in lines\n",
      "    pieces = self.included_pieces\n",
      "  File \"/home/ease/workspace/ros/src/pycram/venv/lib/python3.8/site-packages/stack_data/utils.py\", line 144, in cached_property_wrapper\n",
      "    value = obj.__dict__[self.func.__name__] = self.func(obj)\n",
      "  File \"/home/ease/workspace/ros/src/pycram/venv/lib/python3.8/site-packages/stack_data/core.py\", line 681, in included_pieces\n",
      "    pos = scope_pieces.index(self.executing_piece)\n",
      "  File \"/home/ease/workspace/ros/src/pycram/venv/lib/python3.8/site-packages/stack_data/utils.py\", line 144, in cached_property_wrapper\n",
      "    value = obj.__dict__[self.func.__name__] = self.func(obj)\n",
      "  File \"/home/ease/workspace/ros/src/pycram/venv/lib/python3.8/site-packages/stack_data/core.py\", line 660, in executing_piece\n",
      "    return only(\n",
      "  File \"/home/ease/workspace/ros/src/pycram/venv/lib/python3.8/site-packages/executing/executing.py\", line 190, in only\n",
      "    raise NotOneValueFound('Expected one value, found 0')\n",
      "executing.executing.NotOneValueFound: Expected one value, found 0\n"
     ]
    }
   ],
   "source": [
    "from pycram.designators.action_designator import *\n",
    "from pycram.designators.object_designator import *\n",
    "from pycram.enums import Arms\n",
    "from pycram.process_module import simulated_robot\n",
    "from pycram.pose import Pose\n",
    "\n",
    "apartment_desig = BelieveObject(names=[\"apartment\"]).resolve()\n",
    "handle_deisg = ObjectPart(names=[\"handle_cab10_t\"], part_of=apartment_desig)\n",
    "\n",
    "with simulated_robot:\n",
    "    MoveTorsoAction([0.25]).resolve().perform()\n",
    "    ParkArmsAction([Arms.BOTH]).resolve().perform()\n",
    "    NavigateAction([Pose([1.7474915981292725, 2.6873629093170166, 0.0],\n",
    "                         [-0.0, 0.0, 0.5253598267689507, -0.850880163370435])]).resolve().perform()\n",
    "    OpenAction(handle_deisg, [\"right\"]).resolve().perform()"
   ]
  },
  {
   "cell_type": "markdown",
   "id": "3a0f2fb3",
   "metadata": {},
   "source": [
    "## Closing\n",
    "Closing lets the robot close an open drawer, like opening the drawer is identified by an ObjectPart designator describing the handle to be grasped. \n",
    "\n",
    "This action designator only works in the apartment environment for the moment, therefore we remove the kitchen and spawn the apartment. Additionally, we open the drawer such that we can close it with the action designator."
   ]
  },
  {
   "cell_type": "code",
   "execution_count": null,
   "id": "b5721512",
   "metadata": {},
   "outputs": [],
   "source": [
    "kitchen.remove()"
   ]
  },
  {
   "cell_type": "code",
   "execution_count": 17,
   "id": "187176a3",
   "metadata": {},
   "outputs": [
    {
     "name": "stderr",
     "output_type": "stream",
     "text": [
      "Unknown tag \"material\" in /robot[@name='apartment']/link[@name='coffe_machine']/collision[1]\n",
      "Unknown tag \"material\" in /robot[@name='apartment']/link[@name='coffe_machine']/collision[1]\n"
     ]
    }
   ],
   "source": [
    "apartment = Object(\"apartment\", ObjectType.ENVIRONMENT, \"apartment.urdf\")\n",
    "apartment.set_joint_state(\"cabinet10_drawer_top_joint\", 0.4)"
   ]
  },
  {
   "cell_type": "code",
   "execution_count": 6,
   "id": "be6c0bf5",
   "metadata": {
    "ExecuteTime": {
     "end_time": "2024-03-20T17:43:00.657644615Z",
     "start_time": "2024-03-20T17:42:55.616709404Z"
    }
   },
   "outputs": [
    {
     "name": "stdout",
     "output_type": "stream",
     "text": [
      "JSON Info: {'code': {'function': 'perform', 'kwargs': {'self': {'action_type': 'MoveTorsoAction', 'position': 0.25}}}, 'status': 'CREATED', 'start_time': None, 'end_time': None, 'id': 140425066462800, 'parent_id': 140427727196320}\n",
      "JSON Info: {'code': {'function': 'perform', 'kwargs': {'self': {'action_type': 'ParkArmsAction', 'arm': 'BOTH'}}}, 'status': 'CREATED', 'start_time': None, 'end_time': None, 'id': 140425066462992, 'parent_id': 140427727196320}\n",
      "JSON Info: {'code': {'function': 'perform', 'kwargs': {'self': {'action_type': 'NavigateAction', 'target_location': {'position': [1.7474915981292725, 2.8073629093170167, 0.0], 'orientation': [-0.0, 0.0, 0.5253598267689507, -0.850880163370435], 'frame': 'map'}}}}, 'status': 'CREATED', 'start_time': None, 'end_time': None, 'id': 140425065271504, 'parent_id': 140427727196320}\n",
      "JSON Info: {'code': {'function': 'perform', 'kwargs': {'self': {'motion_type': 'MoveMotion', 'target': {'position': [1.7474915981292725, 2.8073629093170167, 0.0], 'orientation': [-0.0, 0.0, 0.5253598267689507, -0.850880163370435], 'frame': 'map'}}}}, 'status': 'CREATED', 'start_time': None, 'end_time': None, 'id': 140425065271936, 'parent_id': 140425065271504}\n",
      "JSON Info: {'code': {'function': 'perform', 'kwargs': {'self': {'action_type': 'CloseAction', 'object_designator': {'type': None, 'name': 'handle_cab10_t', 'part_pose': {'position': [2.267491579055786, 2.2473597526550293, 0.8849999904632568], 'orientation': [0.706824345428308, -0.001125727171250961, -0.0011266239184536168, 0.7073873112847913], 'frame': 'map'}}, 'arm': 'right'}}}, 'status': 'CREATED', 'start_time': None, 'end_time': None, 'id': 140425066462272, 'parent_id': 140427727196320}\n",
      "JSON Info: {'code': {'function': 'perform', 'kwargs': {'self': {'motion_type': 'MoveTCPMotion', 'target': {'position': [0.5318700832305011, 0.46714265024348833, -0.25166886370228914], 'orientation': [0.6783572481680552, 0.24186658443312817, 0.23103906470249608, 0.6541811291790004], 'frame': 'pr2_2/r_gripper_tool_frame'}, 'arm': 'right', 'allow_gripper_collision': None}}}, 'status': 'CREATED', 'start_time': None, 'end_time': None, 'id': 140425065272416, 'parent_id': 140425066462272}\n",
      "JSON Info: {'code': {'function': 'perform', 'kwargs': {'self': {'motion_type': 'MoveGripperMotion', 'motion': 'open', 'gripper': 'right', 'allow_gripper_collision': None}}}, 'status': 'CREATED', 'start_time': None, 'end_time': None, 'id': 140425065272896, 'parent_id': 140425066462272}\n",
      "JSON Info: {'code': {'function': 'perform', 'kwargs': {'self': {'motion_type': 'MoveTCPMotion', 'target': {'position': [2.267491579055786, 2.2473597526550293, 0.8849999904632568], 'orientation': [0.706824345428308, -0.001125727171250961, -0.0011266239184536168, 0.7073873112847913], 'frame': 'map'}, 'arm': 'right', 'allow_gripper_collision': True}}}, 'status': 'CREATED', 'start_time': None, 'end_time': None, 'id': 140425065273424, 'parent_id': 140425066462272}\n",
      "JSON Info: {'code': {'function': 'perform', 'kwargs': {'self': {'motion_type': 'MoveGripperMotion', 'motion': 'close', 'gripper': 'right', 'allow_gripper_collision': True}}}, 'status': 'CREATED', 'start_time': None, 'end_time': None, 'id': 140425065273472, 'parent_id': 140425066462272}\n",
      "JSON Info: {'code': {'function': 'perform', 'kwargs': {}}, 'status': 'CREATED', 'start_time': None, 'end_time': None, 'id': 140425065274048, 'parent_id': 140425066462272}\n",
      "JSON Info: {'code': {'function': 'perform', 'kwargs': {'self': {'motion_type': 'MoveGripperMotion', 'motion': 'open', 'gripper': 'right', 'allow_gripper_collision': True}}}, 'status': 'CREATED', 'start_time': None, 'end_time': None, 'id': 140425065274672, 'parent_id': 140425066462272}\n"
     ]
    }
   ],
   "source": [
    "from pycram.designators.action_designator import *\n",
    "from pycram.designators.object_designator import *\n",
    "from pycram.enums import Arms\n",
    "from pycram.process_module import simulated_robot\n",
    "from pycram.pose import Pose\n",
    "\n",
    "apartment_desig = BelieveObject(names=[\"apartment\"]).resolve()\n",
    "handle_deisg = ObjectPart(names=[\"handle_cab10_t\"], part_of=apartment_desig)\n",
    "\n",
    "with simulated_robot:\n",
    "    MoveTorsoAction([0.25]).resolve().perform()\n",
    "    ParkArmsAction([Arms.BOTH]).resolve().perform()\n",
    "    NavigateAction([Pose([1.7474915981292725, 2.8073629093170166, 0.0],\n",
    "                         [-0.0, 0.0, 0.5253598267689507, -0.850880163370435])]).resolve().perform()\n",
    "    CloseAction(handle_deisg, [\"right\"]).resolve().perform()"
   ]
  },
  {
   "cell_type": "code",
   "execution_count": null,
   "outputs": [],
   "source": [],
   "metadata": {
    "collapsed": false
   },
   "id": "95b87b10eca0169e"
  }
 ],
 "metadata": {
  "kernelspec": {
   "display_name": "Python 3",
   "language": "python",
   "name": "python3"
  },
  "language_info": {
   "codemirror_mode": {
    "name": "ipython",
    "version": 3
   },
   "file_extension": ".py",
   "mimetype": "text/x-python",
   "name": "python",
   "nbconvert_exporter": "python",
   "pygments_lexer": "ipython3",
   "version": "3.8.10"
  }
 },
 "nbformat": 4,
 "nbformat_minor": 5
}
